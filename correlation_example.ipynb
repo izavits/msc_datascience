{
 "cells": [
  {
   "cell_type": "code",
   "execution_count": 35,
   "metadata": {},
   "outputs": [
    {
     "name": "stdout",
     "output_type": "stream",
     "text": [
      "Degrees of freedom (dof) = 2\n",
      "x^2 = 5.855499314350247\n",
      "p = 0.05351733509077522\n",
      "\n",
      "Expected values:\n",
      "[[20.24 18.48  5.28]\n",
      " [25.76 23.52  6.72]]\n",
      "\n",
      "probability=0.950, critical=5.991, stat=5.855\n",
      "Independent (fail to reject H0)\n"
     ]
    }
   ],
   "source": [
    "# Chi square for statistical significant difference\n",
    "# p-value and the NULL hypothesis\n",
    "\n",
    "# Assume a 2 groups of students (last year and this year) and grades\n",
    "\n",
    "#         A      B     C\n",
    "# old    26     13     5      \n",
    "# new    20     29     7     \n",
    "\n",
    "\n",
    "# Are the greades dependent on the new or old students?\n",
    "# NULL hypothesis: all the same / independent\n",
    "# chi-square to decide if we will REJECT the null hypothesis\n",
    "\n",
    "# x^2 = Sum [ (O-E)^2 / E ] \n",
    "# where O: observation, E: expected value\n",
    "\n",
    "# Expected frequencies:\n",
    "# e_ij = (count(A=a_i) x count(B=b_j)) / n\n",
    "# example: (old, A) = (44x46 / 100) = 20.24\n",
    "\n",
    "\n",
    "from scipy.stats import chi2_contingency\n",
    "from scipy.stats import chi2\n",
    "\n",
    "table = [\n",
    "    [26, 13, 5],\n",
    "    [20, 29, 7]\n",
    "]\n",
    "\n",
    "stat, p, dof, expected = chi2_contingency(table)\n",
    "print(f'Degrees of freedom (dof) = {dof}')\n",
    "print(f'x^2 = {stat}')\n",
    "print(f'p = {p}')\n",
    "print('\\nExpected values:')\n",
    "print(expected)\n",
    "print('')\n",
    "\n",
    "alpha = 0.95\n",
    "critical = chi2.ppf(prob, dof)\n",
    "print('probability=%.3f, critical=%.3f, stat=%.3f' % (alpha, critical, stat))\n",
    "if abs(stat) >= critical:\n",
    "    print('Dependent (reject H0)')\n",
    "else:\n",
    "    print('Independent (fail to reject H0)')"
   ]
  },
  {
   "cell_type": "code",
   "execution_count": 36,
   "metadata": {},
   "outputs": [
    {
     "name": "stdout",
     "output_type": "stream",
     "text": [
      "data1: mean=100.776 stdv=19.620\n",
      "data2: mean=151.050 stdv=22.358\n"
     ]
    },
    {
     "data": {
      "image/png": "[encoded data removed]",
      "text/plain": [
       "<Figure size 432x288 with 1 Axes>"
      ]
     },
     "metadata": {
      "needs_background": "light"
     },
     "output_type": "display_data"
    }
   ],
   "source": [
    "# Define a dataset\n",
    "\n",
    "# We will generate 1,000 samples of two variables with a strong positive correlation. \n",
    "# First variable: random numbers drawn from a Gaussian distribution: mean 100, SD 20. \n",
    "# Second variable: values from the first variable with Gaussian noise added: mean 50, SD 10.\n",
    "\n",
    "from numpy import mean\n",
    "from numpy import std\n",
    "from numpy.random import randn\n",
    "from numpy.random import seed\n",
    "from matplotlib import pyplot\n",
    "# Set seed for random number generation\n",
    "seed(1)\n",
    "\n",
    "# Generate data\n",
    "data1 = 20 * randn(1000) + 100\n",
    "data2 = data1 + (10 * randn(1000) + 50)\n",
    "\n",
    "# Summarize data\n",
    "print('data1: mean=%.3f stdv=%.3f' % (mean(data1), std(data1)))\n",
    "print('data2: mean=%.3f stdv=%.3f' % (mean(data2), std(data2)))\n",
    "\n",
    "# Plot data\n",
    "pyplot.scatter(data1, data2)\n",
    "pyplot.show()"
   ]
  },
  {
   "cell_type": "code",
   "execution_count": 37,
   "metadata": {},
   "outputs": [
    {
     "name": "stdout",
     "output_type": "stream",
     "text": [
      "[[385.33297729 389.7545618 ]\n",
      " [389.7545618  500.38006058]]\n"
     ]
    }
   ],
   "source": [
    "# The relationship between two variables can be summarized: this is called covariance\n",
    "# cov(X, Y) = (sum (x - mean(X)) * (y - mean(Y)) ) * 1/(n-1)\n",
    "\n",
    "# Use of the mean: suggests the need for each data sample to have a Gaussian or Gaussian-like distribution.\n",
    "\n",
    "# The sign of the covariance:\n",
    "#    whether the two variables change in the same direction (positive) \n",
    "#    or change in different directions (negative)\n",
    "\n",
    "# A covariance value of zero indicates that both variables are completely independent.\n",
    "\n",
    "from numpy import cov\n",
    "\n",
    "covariance = cov(data1, data2)\n",
    "print(covariance)"
   ]
  },
  {
   "cell_type": "code",
   "execution_count": 38,
   "metadata": {},
   "outputs": [],
   "source": [
    "# Covariance = 389.73\n",
    "\n",
    "#      X           Y\n",
    "# X  var(X)     cov(X,Y)\n",
    "# Y  cov(X,Y)   var(Y)"
   ]
  },
  {
   "cell_type": "code",
   "execution_count": 39,
   "metadata": {},
   "outputs": [
    {
     "name": "stdout",
     "output_type": "stream",
     "text": [
      "Pearsons correlation: 0.888\n"
     ]
    }
   ],
   "source": [
    "# Calculate Pearson's correlation\n",
    "\n",
    "# Calculated as the covariance of the two variables \n",
    "# divided by the product of the standard deviation of each data sample. \n",
    "# It is the normalization of the covariance between the two variables to give an interpretable score.\n",
    "\n",
    "# Pearson's correlation coefficient = covariance(X, Y) / (stdv(X) * stdv(Y))\n",
    "\n",
    "from scipy.stats import pearsonr\n",
    "\n",
    "corr, _ = pearsonr(data1, data2)\n",
    "print('Pearsons correlation: %.3f' % corr)"
   ]
  },
  {
   "cell_type": "code",
   "execution_count": 40,
   "metadata": {},
   "outputs": [],
   "source": [
    "# This suggests a high level of correlation, e.g. a value above 0.5 and close to 1.0."
   ]
  },
  {
   "cell_type": "code",
   "execution_count": 41,
   "metadata": {},
   "outputs": [
    {
     "name": "stdout",
     "output_type": "stream",
     "text": [
      "Spearmans correlation: 0.872\n"
     ]
    }
   ],
   "source": [
    "# Calculate Spearman's correlation\n",
    "from scipy.stats import spearmanr\n",
    "\n",
    "corr, _ = spearmanr(data1, data2)\n",
    "print('Spearmans correlation: %.3f' % corr)"
   ]
  },
  {
   "cell_type": "code",
   "execution_count": null,
   "metadata": {},
   "outputs": [],
   "source": []
  }
 ],
 "metadata": {
  "kernelspec": {
   "display_name": "Python 3 (ipykernel)",
   "language": "python",
   "name": "python3"
  },
  "language_info": {
   "codemirror_mode": {
    "name": "ipython",
    "version": 3
   },
   "file_extension": ".py",
   "mimetype": "text/x-python",
   "name": "python",
   "nbconvert_exporter": "python",
   "pygments_lexer": "ipython3",
   "version": "3.7.3"
  }
 },
 "nbformat": 4,
 "nbformat_minor": 2
}
