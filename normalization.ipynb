{
 "cells": [
  {
   "cell_type": "code",
   "execution_count": 1,
   "id": "9084b2ac",
   "metadata": {},
   "outputs": [],
   "source": [
    "# Normalization examples\n",
    "\n",
    "import numpy as np\n",
    "import statistics"
   ]
  },
  {
   "cell_type": "code",
   "execution_count": 2,
   "id": "feae11b2",
   "metadata": {},
   "outputs": [],
   "source": [
    "# min-max normalization\n",
    "# v_norm = [(v - min_v)/(max_v - min_v)] * (new_max - new_min) + new_min\n",
    "\n",
    "def min_max(data, new_min, new_max):\n",
    "    # Get min and max values\n",
    "    min_v = min(data)\n",
    "    max_v = max(data)\n",
    "    normalized_data = []\n",
    "    for v in data:\n",
    "        v_norm = ((v-min_v)/(max_v-min_v))*(new_max-new_min) + new_min\n",
    "        normalized_data.append(v_norm)\n",
    "    return normalized_data\n"
   ]
  },
  {
   "cell_type": "code",
   "execution_count": 3,
   "id": "0e29cda3",
   "metadata": {},
   "outputs": [
    {
     "data": {
      "text/plain": [
       "[0.7162790697674418,\n",
       " 0.03488372093023256,\n",
       " 0.0,\n",
       " 1.0,\n",
       " 0.7162790697674418,\n",
       " 0.8023255813953488,\n",
       " 0.026744186046511628,\n",
       " 0.0941860465116279,\n",
       " 0.22325581395348837,\n",
       " 0.1511627906976744,\n",
       " 0.7491860465116279,\n",
       " 0.65]"
      ]
     },
     "execution_count": 3,
     "metadata": {},
     "output_type": "execute_result"
    }
   ],
   "source": [
    "data = [73600, 15000, 12000, 98000, 73600, 81000, 14300, 20100, 31200, 25000, 76430, 67900]\n",
    "\n",
    "norm_d_min_max = min_max(data, 0, 1)\n",
    "norm_d_min_max"
   ]
  },
  {
   "cell_type": "code",
   "execution_count": 4,
   "id": "04e8494c",
   "metadata": {},
   "outputs": [],
   "source": [
    "# z_score normalization\n",
    "# v_norm = (v - mean)/std\n",
    "\n",
    "def z_score(data):\n",
    "    mean = statistics.mean(data)\n",
    "    std = statistics.stdev(data)\n",
    "    normalized_data = []\n",
    "    for v in data:\n",
    "        v_norm = (v-mean)/std\n",
    "        normalized_data.append(v_norm)\n",
    "    return normalized_data\n"
   ]
  },
  {
   "cell_type": "code",
   "execution_count": 5,
   "id": "5369feb6",
   "metadata": {},
   "outputs": [
    {
     "data": {
      "text/plain": [
       "[0.7705324699346557,\n",
       " -1.065772247108927,\n",
       " -1.159781021019008,\n",
       " 1.5351371644033147,\n",
       " 0.7705324699346557,\n",
       " 1.0024207789128556,\n",
       " -1.087707627687946,\n",
       " -0.9059573314617893,\n",
       " -0.5581248679944895,\n",
       " -0.7524096674086569,\n",
       " 0.8592140799898321,\n",
       " 0.5919157995055018]"
      ]
     },
     "execution_count": 5,
     "metadata": {},
     "output_type": "execute_result"
    }
   ],
   "source": [
    "data = [73600, 15000, 12000, 98000, 73600, 81000, 14300, 20100, 31200, 25000, 76430, 67900]\n",
    "\n",
    "norm_d_z_score = z_score(data)\n",
    "norm_d_z_score"
   ]
  },
  {
   "cell_type": "code",
   "execution_count": 6,
   "id": "f5cc3617",
   "metadata": {},
   "outputs": [],
   "source": [
    "# Decimal scale normalization\n",
    "# v_norm = v / 10^j, where j is the smallest integer such that max(|vi′|) < 1.\n",
    "\n",
    "def dec_scale(data):\n",
    "    max_v = max(data, key=abs)\n",
    "    digit = len(str(max_v))\n",
    "    div = pow(10, digit)\n",
    "    normalized_data = []\n",
    "    for v in data:\n",
    "        v_norm = v/div\n",
    "        normalized_data.append(v_norm)\n",
    "    return normalized_data"
   ]
  },
  {
   "cell_type": "code",
   "execution_count": 7,
   "id": "3f332793",
   "metadata": {},
   "outputs": [
    {
     "data": {
      "text/plain": [
       "[0.736,\n",
       " 0.15,\n",
       " 0.12,\n",
       " 0.98,\n",
       " 0.736,\n",
       " 0.81,\n",
       " 0.143,\n",
       " 0.201,\n",
       " 0.312,\n",
       " 0.25,\n",
       " 0.7643,\n",
       " 0.679]"
      ]
     },
     "execution_count": 7,
     "metadata": {},
     "output_type": "execute_result"
    }
   ],
   "source": [
    "data = [73600, 15000, 12000, 98000, 73600, 81000, 14300, 20100, 31200, 25000, 76430, 67900]\n",
    "\n",
    "norm_d_dec_scale = dec_scale(data)\n",
    "norm_d_dec_scale"
   ]
  },
  {
   "cell_type": "code",
   "execution_count": 9,
   "id": "78ce14c1",
   "metadata": {},
   "outputs": [
    {
     "name": "stdout",
     "output_type": "stream",
     "text": [
      "[[0.71627907]\n",
      " [0.03488372]\n",
      " [0.        ]\n",
      " [1.        ]\n",
      " [0.71627907]\n",
      " [0.80232558]\n",
      " [0.02674419]\n",
      " [0.09418605]\n",
      " [0.22325581]\n",
      " [0.15116279]\n",
      " [0.74918605]\n",
      " [0.65      ]]\n"
     ]
    }
   ],
   "source": [
    "# Other more direct ways\n",
    "\n",
    "# Use the MinMax scaler from sklearn\n",
    "from sklearn.preprocessing import MinMaxScaler\n",
    "\n",
    "# sklearn assumes that we have an array of observations of \"n\" features. Here we assume 1 feature.\n",
    "# So we need to transform the data as follows:\n",
    "# [[73600], \n",
    "#  [15000], \n",
    "#  [12000], \n",
    "#  [98000], \n",
    "#  [73600], \n",
    "#  [81000], \n",
    "#  [14300],\n",
    "#  [20100], \n",
    "#  [31200], \n",
    "#  [25000], \n",
    "#  [76430], \n",
    "#  [67900]]\n",
    "\n",
    "data = [73600, 15000, 12000, 98000, 73600, 81000, 14300, 20100, 31200, 25000, 76430, 67900]\n",
    "data = np.reshape(data, (-1,1))\n",
    "\n",
    "scaler = MinMaxScaler()\n",
    "normalized_data = scaler.fit_transform(data)\n",
    "print(normalized_data)\n"
   ]
  },
  {
   "cell_type": "code",
   "execution_count": 10,
   "id": "4845a263",
   "metadata": {},
   "outputs": [
    {
     "name": "stdout",
     "output_type": "stream",
     "text": [
      "[[0.71627907 0.        ]\n",
      " [0.03488372 0.12048193]\n",
      " [0.         0.20481928]\n",
      " [1.         1.        ]\n",
      " [0.71627907 0.50240964]\n",
      " [0.80232558 0.40843373]\n",
      " [0.02674419 0.17831325]\n",
      " [0.09418605 0.53012048]\n",
      " [0.22325581 0.25903614]\n",
      " [0.15116279 0.62650602]\n",
      " [0.74918605 0.68192771]\n",
      " [0.65       0.29879518]]\n"
     ]
    }
   ],
   "source": [
    "# If we had more attributes, we would scale all attributes\n",
    "# e.g. in the following example with 2 attributes:\n",
    "\n",
    "data = [\n",
    "    [73600, 1500],\n",
    "    [15000, 2500], \n",
    "    [12000, 3200], \n",
    "    [98000, 9800], \n",
    "    [73600, 5670], \n",
    "    [81000, 4890], \n",
    "    [14300, 2980],\n",
    "    [20100, 5900], \n",
    "    [31200, 3650], \n",
    "    [25000, 6700], \n",
    "    [76430, 7160], \n",
    "    [67900, 3980]\n",
    "]\n",
    "\n",
    "scaler = MinMaxScaler()\n",
    "normalized_data = scaler.fit_transform(data)\n",
    "print(normalized_data)"
   ]
  },
  {
   "cell_type": "code",
   "execution_count": null,
   "id": "b31569fa",
   "metadata": {},
   "outputs": [],
   "source": []
  }
 ],
 "metadata": {
  "kernelspec": {
   "display_name": "venv",
   "language": "python",
   "name": "venv"
  },
  "language_info": {
   "codemirror_mode": {
    "name": "ipython",
    "version": 3
   },
   "file_extension": ".py",
   "mimetype": "text/x-python",
   "name": "python",
   "nbconvert_exporter": "python",
   "pygments_lexer": "ipython3",
   "version": "3.7.3"
  }
 },
 "nbformat": 4,
 "nbformat_minor": 5
}
