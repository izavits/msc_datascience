{
 "cells": [
  {
   "cell_type": "code",
   "execution_count": 1,
   "id": "9084b2ac",
   "metadata": {},
   "outputs": [],
   "source": [
    "# Normalization examples\n",
    "\n",
    "import numpy as np\n",
    "import statistics"
   ]
  },
  {
   "cell_type": "code",
   "execution_count": 2,
   "id": "feae11b2",
   "metadata": {},
   "outputs": [],
   "source": [
    "# min-max normalization\n",
    "# v_norm = [(v - min_v)/(max_v - min_v)] * (new_max - new_min) + new_min\n",
    "\n",
    "def min_max(data, new_min, new_max):\n",
    "    # Get min and max values\n",
    "    min_v = min(data)\n",
    "    max_v = max(data)\n",
    "    normalized_data = []\n",
    "    for v in data:\n",
    "        v_norm = ((v-min_v)/(max_v-min_v))*(new_max-new_min) + new_min\n",
    "        normalized_data.append(v_norm)\n",
    "    return normalized_data\n"
   ]
  },
  {
   "cell_type": "code",
   "execution_count": 3,
   "id": "0e29cda3",
   "metadata": {},
   "outputs": [
    {
     "data": {
      "text/plain": [
       "[0.7162790697674418,\n",
       " 0.03488372093023256,\n",
       " 0.0,\n",
       " 1.0,\n",
       " 0.7162790697674418,\n",
       " 0.8023255813953488,\n",
       " 0.026744186046511628,\n",
       " 0.0941860465116279,\n",
       " 0.22325581395348837,\n",
       " 0.1511627906976744,\n",
       " 0.7491860465116279,\n",
       " 0.65]"
      ]
     },
     "execution_count": 3,
     "metadata": {},
     "output_type": "execute_result"
    }
   ],
   "source": [
    "data = [73600, 15000, 12000, 98000, 73600, 81000, 14300, 20100, 31200, 25000, 76430, 67900]\n",
    "\n",
    "norm_d_min_max = min_max(data, 0, 1)\n",
    "norm_d_min_max"
   ]
  },
  {
   "cell_type": "code",
   "execution_count": 4,
   "id": "04e8494c",
   "metadata": {},
   "outputs": [],
   "source": [
    "# z_score normalization\n",
    "# v_norm = (v - mean)/std\n",
    "\n",
    "def z_score(data):\n",
    "    mean = statistics.mean(data)\n",
    "    std = statistics.stdev(data)\n",
    "    normalized_data = []\n",
    "    for v in data:\n",
    "        v_norm = (v-mean)/std\n",
    "        normalized_data.append(v_norm)\n",
    "    return normalized_data\n"
   ]
  },
  {
   "cell_type": "code",
   "execution_count": 5,
   "id": "5369feb6",
   "metadata": {},
   "outputs": [
    {
     "data": {
      "text/plain": [
       "[0.7705324699346557,\n",
       " -1.065772247108927,\n",
       " -1.159781021019008,\n",
       " 1.5351371644033147,\n",
       " 0.7705324699346557,\n",
       " 1.0024207789128556,\n",
       " -1.087707627687946,\n",
       " -0.9059573314617893,\n",
       " -0.5581248679944895,\n",
       " -0.7524096674086569,\n",
       " 0.8592140799898321,\n",
       " 0.5919157995055018]"
      ]
     },
     "execution_count": 5,
     "metadata": {},
     "output_type": "execute_result"
    }
   ],
   "source": [
    "data = [73600, 15000, 12000, 98000, 73600, 81000, 14300, 20100, 31200, 25000, 76430, 67900]\n",
    "\n",
    "norm_d_z_score = z_score(data)\n",
    "norm_d_z_score"
   ]
  },
  {
   "cell_type": "code",
   "execution_count": 6,
   "id": "f5cc3617",
   "metadata": {},
   "outputs": [],
   "source": [
    "# Decimal scale normalization\n",
    "# v_norm = v / 10^j, where j is the smallest integer such that max(|vi′|) < 1.\n",
    "\n",
    "def dec_scale(data):\n",
    "    max_v = max(data, key=abs)\n",
    "    digit = len(str(max_v))\n",
    "    div = pow(10, digit)\n",
    "    normalized_data = []\n",
    "    for v in data:\n",
    "        v_norm = v/div\n",
    "        normalized_data.append(v_norm)\n",
    "    return normalized_data"
   ]
  },
  {
   "cell_type": "code",
   "execution_count": 7,
   "id": "3f332793",
   "metadata": {},
   "outputs": [
    {
     "data": {
      "text/plain": [
       "[0.736,\n",
       " 0.15,\n",
       " 0.12,\n",
       " 0.98,\n",
       " 0.736,\n",
       " 0.81,\n",
       " 0.143,\n",
       " 0.201,\n",
       " 0.312,\n",
       " 0.25,\n",
       " 0.7643,\n",
       " 0.679]"
      ]
     },
     "execution_count": 7,
     "metadata": {},
     "output_type": "execute_result"
    }
   ],
   "source": [
    "data = [73600, 15000, 12000, 98000, 73600, 81000, 14300, 20100, 31200, 25000, 76430, 67900]\n",
    "\n",
    "norm_d_dec_scale = dec_scale(data)\n",
    "norm_d_dec_scale"
   ]
  },
  {
   "cell_type": "code",
   "execution_count": 8,
   "id": "78ce14c1",
   "metadata": {},
   "outputs": [
    {
     "name": "stdout",
     "output_type": "stream",
     "text": [
      "[[0.71627907]\n",
      " [0.03488372]\n",
      " [0.        ]\n",
      " [1.        ]\n",
      " [0.71627907]\n",
      " [0.80232558]\n",
      " [0.02674419]\n",
      " [0.09418605]\n",
      " [0.22325581]\n",
      " [0.15116279]\n",
      " [0.74918605]\n",
      " [0.65      ]]\n"
     ]
    }
   ],
   "source": [
    "# Other more direct ways\n",
    "\n",
    "# Use the MinMax scaler from sklearn\n",
    "from sklearn.preprocessing import MinMaxScaler\n",
    "\n",
    "# sklearn assumes that we have an array of observations of \"n\" features. Here we assume 1 feature.\n",
    "# So we need to transform the data aw follows:\n",
    "# [[73600], \n",
    "#  [15000], \n",
    "#  [12000], \n",
    "#  [98000], \n",
    "#  [73600], \n",
    "#  [81000], \n",
    "#  [14300],\n",
    "#  [20100], \n",
    "#  [31200], \n",
    "#  [25000], \n",
    "#  [76430], \n",
    "#  [67900]]\n",
    "\n",
    "data = [73600, 15000, 12000, 98000, 73600, 81000, 14300, 20100, 31200, 25000, 76430, 67900]\n",
    "\n",
    "input_data = []\n",
    "for d in data:\n",
    "    input_data.append([d])\n",
    "\n",
    "scaler = MinMaxScaler()\n",
    "scaler.fit(input_data)\n",
    "normalized_data = scaler.transform(input_data)\n",
    "print(normalized_data)\n"
   ]
  },
  {
   "cell_type": "code",
   "execution_count": null,
   "id": "4845a263",
   "metadata": {},
   "outputs": [],
   "source": []
  }
 ],
 "metadata": {
  "kernelspec": {
   "display_name": "venv",
   "language": "python",
   "name": "venv"
  },
  "language_info": {
   "codemirror_mode": {
    "name": "ipython",
    "version": 3
   },
   "file_extension": ".py",
   "mimetype": "text/x-python",
   "name": "python",
   "nbconvert_exporter": "python",
   "pygments_lexer": "ipython3",
   "version": "3.7.3"
  }
 },
 "nbformat": 4,
 "nbformat_minor": 5
}
