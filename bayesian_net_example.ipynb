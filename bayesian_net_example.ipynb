{
 "cells": [
  {
   "cell_type": "markdown",
   "id": "bafa9a36",
   "metadata": {},
   "source": [
    "# Simple Bayesian network example\n",
    "\n",
    "Monty Hall Problem\n",
    "\n",
    "We are in a game show. We have 3 doors.\n",
    "Behind one door is a prize. Behind the others there's nothing.\n",
    "\n",
    "You have to select one door.\n",
    "Let's say you pick no 1.\n",
    "The host, who knows what's behind each door, opens another door, e.g. no 3, which has nothing.\n",
    "Now, you have one last chance before the game ends: do you want to change your mind and select door no 2?"
   ]
  },
  {
   "cell_type": "code",
   "execution_count": 1,
   "id": "3a98a2fd",
   "metadata": {},
   "outputs": [],
   "source": [
    "# We have 3 random variables in this setting:\n",
    "# Contestant (C)\n",
    "# Host (H)\n",
    "# Prize (P)\n",
    "\n",
    "# Structure:\n",
    "\n",
    "#   (P)     (C)\n",
    "#    \\     /\n",
    "#     \\   /\n",
    "#      \\ /  \n",
    "#      (H)\n",
    "\n",
    "# Let's see the Conditional probability distributions:\n",
    "\n",
    "# P(C):\n",
    "# C   0     1     2\n",
    "#    0.33  0.33  0.33\n",
    "\n",
    "# P(P):\n",
    "# P   0     1     2\n",
    "#    0.33  0.33  0.33\n",
    "\n",
    "# P(H | P,C):\n",
    "\n",
    "# +-----+-----------------+-----------------+-----------------+\n",
    "# | C   |        0        |        1        |        2        |\n",
    "# +-----+-----+-----+-----+-----+-----+-----+-----------------+\n",
    "# | P   |  0  |  1  |  2  |  0  |  1  |  2  |  0  |  1  |  2  |\n",
    "# +=====+=====+=====+=====+=====+=====+=====+=====+=====+=====+\n",
    "# | H=0 |  0  |  0  |  0  |  0  | 0.5 |  1  |  0  |  1  | 0.5 |\n",
    "# +-----+-----+-----+-----+-----+-----+-----+-----+-----+-----+\n",
    "# | H=1 | 0.5 |  0  |  1  |  0  |  0  |  0  |  1  |  0  | 0.5 |\n",
    "# +-----+-----+-----+-----+-----+-----+-----+-----+-----+-----+\n",
    "# | H=2 | 0.5 |  1  |  0  |  1  | 0.5 |  0  |  0  |  0  |  0  |\n",
    "# +-----+-----+-----+-----+-----+-----+-----+-----+-----+-----+\n",
    "\n"
   ]
  },
  {
   "cell_type": "code",
   "execution_count": 2,
   "id": "bc1ec057",
   "metadata": {},
   "outputs": [],
   "source": [
    "# Import the libraries\n",
    "from pgmpy.models import BayesianNetwork\n",
    "from pgmpy.factors.discrete import TabularCPD"
   ]
  },
  {
   "cell_type": "code",
   "execution_count": 3,
   "id": "58f61771",
   "metadata": {},
   "outputs": [
    {
     "data": {
      "text/plain": [
       "<matplotlib.axes._axes.Axes at 0x7f9a3f0a46a0>"
      ]
     },
     "execution_count": 3,
     "metadata": {},
     "output_type": "execute_result"
    },
    {
     "data": {
      "image/png": "[encoded data removed]",
      "text/plain": [
       "<Figure size 153.071x96.378 with 1 Axes>"
      ]
     },
     "metadata": {},
     "output_type": "display_data"
    }
   ],
   "source": [
    "# Define the network structure\n",
    "model = BayesianNetwork([('C', 'H'), ('P', 'H')])\n",
    "model.to_daft(node_pos={'P':(0,0), 'C':(2,0), 'H':(1,-1)}).render()"
   ]
  },
  {
   "cell_type": "code",
   "execution_count": 4,
   "id": "f1767c24",
   "metadata": {},
   "outputs": [
    {
     "data": {
      "text/plain": [
       "[<TabularCPD representing P(C:3) at 0x7f9a3f257f98>,\n",
       " <TabularCPD representing P(P:3) at 0x7f9a3f257f60>,\n",
       " <TabularCPD representing P(H:3 | C:3, P:3) at 0x7f9a3f257fd0>]"
      ]
     },
     "execution_count": 4,
     "metadata": {},
     "output_type": "execute_result"
    }
   ],
   "source": [
    "# Defining the CPDs:\n",
    "\n",
    "cpd_c = TabularCPD('C', 3, [[0.33], [0.33], [0.33]])\n",
    "cpd_p = TabularCPD('P', 3, [[0.33], [0.33], [0.33]])\n",
    "cpd_h = TabularCPD('H', 3, [[0, 0, 0, 0, 0.5, 1, 0, 1, 0.5],\n",
    "                            [0.5, 0, 1, 0, 0, 0, 1, 0, 0.5],\n",
    "                            [0.5, 1, 0, 1, 0.5, 0, 0, 0, 0]],\n",
    "                   evidence=['C', 'P'], evidence_card=[3, 3])   # variables that constitute evidence & cardinality\n",
    "\n",
    "# Associating the CPDs with the network structure.\n",
    "model.add_cpds(cpd_c, cpd_p, cpd_h)\n",
    "\n",
    "model.get_cpds()"
   ]
  },
  {
   "cell_type": "code",
   "execution_count": 5,
   "id": "b816f13b",
   "metadata": {},
   "outputs": [
    {
     "data": {
      "text/plain": [
       "True"
      ]
     },
     "execution_count": 5,
     "metadata": {},
     "output_type": "execute_result"
    }
   ],
   "source": [
    "# Sanity check\n",
    "model.check_model()"
   ]
  },
  {
   "cell_type": "code",
   "execution_count": 6,
   "id": "62387760",
   "metadata": {},
   "outputs": [
    {
     "data": {
      "text/plain": [
       "(C ⟂ P)\n",
       "(P ⟂ C)"
      ]
     },
     "execution_count": 6,
     "metadata": {},
     "output_type": "execute_result"
    }
   ],
   "source": [
    "# List independencies between variables\n",
    "model.get_independencies()"
   ]
  },
  {
   "cell_type": "code",
   "execution_count": 7,
   "id": "30d41938",
   "metadata": {},
   "outputs": [
    {
     "data": {
      "text/plain": [
       "['C', 'P']"
      ]
     },
     "execution_count": 7,
     "metadata": {},
     "output_type": "execute_result"
    }
   ],
   "source": [
    "# Get the markov blanket for a variable.\n",
    "# The markov blanket is the set of node’s parents, its children and its children’s other parents.\n",
    "model.get_markov_blanket('H')"
   ]
  },
  {
   "cell_type": "code",
   "execution_count": 11,
   "id": "2d8c749c",
   "metadata": {},
   "outputs": [
    {
     "name": "stdout",
     "output_type": "stream",
     "text": [
      "+------+------+\n",
      "| C(0) | 0.33 |\n",
      "+------+------+\n",
      "| C(1) | 0.33 |\n",
      "+------+------+\n",
      "| C(2) | 0.33 |\n",
      "+------+------+\n",
      "\n",
      "+------+------+\n",
      "| P(0) | 0.33 |\n",
      "+------+------+\n",
      "| P(1) | 0.33 |\n",
      "+------+------+\n",
      "| P(2) | 0.33 |\n",
      "+------+------+\n",
      "\n",
      "+------+------+------+------+------+------+------+------+------+------+\n",
      "| C    | C(0) | C(0) | C(0) | C(1) | C(1) | C(1) | C(2) | C(2) | C(2) |\n",
      "+------+------+------+------+------+------+------+------+------+------+\n",
      "| P    | P(0) | P(1) | P(2) | P(0) | P(1) | P(2) | P(0) | P(1) | P(2) |\n",
      "+------+------+------+------+------+------+------+------+------+------+\n",
      "| H(0) | 0.0  | 0.0  | 0.0  | 0.0  | 0.5  | 1.0  | 0.0  | 1.0  | 0.5  |\n",
      "+------+------+------+------+------+------+------+------+------+------+\n",
      "| H(1) | 0.5  | 0.0  | 1.0  | 0.0  | 0.0  | 0.0  | 1.0  | 0.0  | 0.5  |\n",
      "+------+------+------+------+------+------+------+------+------+------+\n",
      "| H(2) | 0.5  | 1.0  | 0.0  | 1.0  | 0.5  | 0.0  | 0.0  | 0.0  | 0.0  |\n",
      "+------+------+------+------+------+------+------+------+------+------+\n"
     ]
    }
   ],
   "source": [
    "# Let's print the CPDs to see what we have defined so far\n",
    "print(cpd_c)\n",
    "print('')\n",
    "print(cpd_p)\n",
    "print('')\n",
    "print(cpd_h)"
   ]
  },
  {
   "cell_type": "code",
   "execution_count": 21,
   "id": "0b34d011",
   "metadata": {},
   "outputs": [
    {
     "name": "stdout",
     "output_type": "stream",
     "text": [
      "{'C': {'C', 'H'}}\n",
      "{'P': {'H', 'P'}}\n",
      "{'H': {'H', 'C', 'P'}}\n"
     ]
    }
   ],
   "source": [
    "# Get the active trails\n",
    "# For any two variables A and B in a network, if any change in A influences the values of B,\n",
    "# then we say that there is an active trail between A and B.\n",
    "\n",
    "# So, in our example: \n",
    "# a change in C affects H, but not P\n",
    "# a change in P affects H, but not C\n",
    "# a change in H affects C and P\n",
    "print(model.active_trail_nodes('C'))\n",
    "print(model.active_trail_nodes('P'))\n",
    "print(model.active_trail_nodes('H'))"
   ]
  },
  {
   "cell_type": "code",
   "execution_count": 7,
   "id": "d7521df0",
   "metadata": {},
   "outputs": [
    {
     "data": {
      "application/vnd.jupyter.widget-view+json": {
       "model_id": "62f6794fe5624047b0611ac3dc930381",
       "version_major": 2,
       "version_minor": 0
      },
      "text/plain": [
       "0it [00:00, ?it/s]"
      ]
     },
     "metadata": {},
     "output_type": "display_data"
    },
    {
     "data": {
      "application/vnd.jupyter.widget-view+json": {
       "model_id": "64ea96d617154e6189b83c9d6ba2175b",
       "version_major": 2,
       "version_minor": 0
      },
      "text/plain": [
       "0it [00:00, ?it/s]"
      ]
     },
     "metadata": {},
     "output_type": "display_data"
    },
    {
     "name": "stdout",
     "output_type": "stream",
     "text": [
      "+------+----------+\n",
      "| P    |   phi(P) |\n",
      "+======+==========+\n",
      "| P(0) |   0.3333 |\n",
      "+------+----------+\n",
      "| P(1) |   0.6667 |\n",
      "+------+----------+\n",
      "| P(2) |   0.0000 |\n",
      "+------+----------+\n"
     ]
    }
   ],
   "source": [
    "# OK, now we have defined and explored the network.\n",
    "# Let's continue with the game:\n",
    "# This is where we initially choose to select door no. 0\n",
    "# And the host chooses to open door no. 2\n",
    "\n",
    "# So, the new evidence that will update our beliefs is:\n",
    "# C = 0\n",
    "# H = 2\n",
    "\n",
    "# What is the posterior probability for prize?\n",
    "\n",
    "# Infering the posterior probability\n",
    "from pgmpy.inference import VariableElimination\n",
    "\n",
    "infer = VariableElimination(model)\n",
    "posterior_p = infer.query(['P'], evidence={'C': 0, 'H': 2})\n",
    "print(posterior_p)"
   ]
  },
  {
   "cell_type": "code",
   "execution_count": 8,
   "id": "9637e332",
   "metadata": {},
   "outputs": [],
   "source": [
    "# The new evidence updated our beliefs, \n",
    "# so we have a better estimation of the probabilities now for where the price could be.\n",
    "# So, we should switch doors."
   ]
  },
  {
   "cell_type": "code",
   "execution_count": null,
   "id": "cecb6514",
   "metadata": {},
   "outputs": [],
   "source": []
  }
 ],
 "metadata": {
  "kernelspec": {
   "display_name": "local-venv",
   "language": "python",
   "name": "local-venv"
  },
  "language_info": {
   "codemirror_mode": {
    "name": "ipython",
    "version": 3
   },
   "file_extension": ".py",
   "mimetype": "text/x-python",
   "name": "python",
   "nbconvert_exporter": "python",
   "pygments_lexer": "ipython3",
   "version": "3.7.3"
  }
 },
 "nbformat": 4,
 "nbformat_minor": 5
}
