{
 "cells": [
  {
   "cell_type": "markdown",
   "id": "50eafae5",
   "metadata": {},
   "source": [
    "# Mini project: Exploratory Data Analysis (EDA)"
   ]
  },
  {
   "cell_type": "code",
   "execution_count": null,
   "id": "7371fba6",
   "metadata": {},
   "outputs": [],
   "source": [
    "# Exploratory Data Analysis in the Titanic dataset\n",
    "\n",
    "# We will use the dataprep python package that facilitates EDA."
   ]
  },
  {
   "cell_type": "code",
   "execution_count": null,
   "id": "b12e88ff",
   "metadata": {},
   "outputs": [],
   "source": [
    "# Dataset description\n",
    "\n",
    "# Variables:\n",
    "# Survived (class): whether survived (0,1)\n",
    "# pclass: ticket class (A proxy for socio-economic status - 1st = Upper, 2nd = Middle, 3rd = Lower)\n",
    "# sex\n",
    "# age\n",
    "# sibsp: number of siblinks/spouses aboard\n",
    "# parch: number of parents/children aboard\n",
    "# ticket: the ticket number\n",
    "# fare: the passenger fare\n",
    "# cabin: cabin number\n",
    "# embarked: port of embarkation\n",
    "# passengerid: the ID of the record\n",
    "# name"
   ]
  },
  {
   "cell_type": "code",
   "execution_count": null,
   "id": "b9d82ab8",
   "metadata": {},
   "outputs": [],
   "source": [
    "# Load libraries\n",
    "# Note that we do not load specific libs that we used to load in other examples:\n",
    "# pandas and plotting libs are hidden in dataprep.eda module\n",
    "\n",
    "from dataprep.eda import *\n",
    "from dataprep.datasets import load_dataset\n",
    "from dataprep.eda import plot, plot_correlation, plot_missing, plot_diff, create_report"
   ]
  },
  {
   "cell_type": "code",
   "execution_count": null,
   "id": "559f73a6",
   "metadata": {},
   "outputs": [],
   "source": [
    "# Load the dataset\n",
    "\n",
    "# This is a well-known dataset. It is directly provided in the library.\n",
    "# We can fetch the dataset directly via the load_dataset() function\n",
    "# which will return the data in a dataframe \n",
    "\n",
    "df = load_dataset(\"titanic\")"
   ]
  },
  {
   "cell_type": "code",
   "execution_count": null,
   "id": "55d3cddd",
   "metadata": {},
   "outputs": [],
   "source": [
    "# We have loaded the dataset in a pandas dataframe.\n",
    "# Let's take a look\n",
    "df"
   ]
  },
  {
   "cell_type": "code",
   "execution_count": null,
   "id": "34677506",
   "metadata": {},
   "outputs": [],
   "source": [
    "# Overview of the data\n",
    "plot(df)"
   ]
  },
  {
   "cell_type": "code",
   "execution_count": null,
   "id": "815ed84c",
   "metadata": {},
   "outputs": [],
   "source": [
    "# Initial findings:\n",
    "# Class distribution not balanced\n",
    "# No duplicates\n",
    "# The numeric attributes are: age, sibsp, parch, fare"
   ]
  },
  {
   "cell_type": "code",
   "execution_count": null,
   "id": "16530520",
   "metadata": {},
   "outputs": [],
   "source": [
    "# Check for missing values\n",
    "\n",
    "plot_missing(df)"
   ]
  },
  {
   "cell_type": "code",
   "execution_count": null,
   "id": "975fbeb8",
   "metadata": {},
   "outputs": [],
   "source": [
    "# There are 3 attributes with missing values: age, cabin, embarked"
   ]
  },
  {
   "cell_type": "code",
   "execution_count": null,
   "id": "df183534",
   "metadata": {},
   "outputs": [],
   "source": [
    "# Let's see the impact of the attributes that have missing values\n",
    "plot(df, 'Age', 'Survived').show()"
   ]
  },
  {
   "cell_type": "code",
   "execution_count": null,
   "id": "df527494",
   "metadata": {},
   "outputs": [],
   "source": [
    "# Seems that younger people are more likely to survive. "
   ]
  },
  {
   "cell_type": "code",
   "execution_count": null,
   "id": "a7719d1f",
   "metadata": {},
   "outputs": [],
   "source": [
    "# Let's try a different plot\n",
    "plot_missing(df, \"Age\", \"Survived\")"
   ]
  },
  {
   "cell_type": "code",
   "execution_count": null,
   "id": "a387c390",
   "metadata": {},
   "outputs": [],
   "source": [
    "# Let's see the other features that have missing values (cabin, embarked)\n",
    "for feature in ['Cabin', 'Embarked']:\n",
    "    plot(df, feature, 'Survived').show()\n"
   ]
  },
  {
   "cell_type": "code",
   "execution_count": null,
   "id": "59e738fb",
   "metadata": {},
   "outputs": [],
   "source": [
    "# Comments:\n",
    "# The effect of cabin to Survived is not clear\n",
    "# Embarked seems correlated. When embarked = C, more likely to be Survived. When S more likely not to be Survived\n",
    "\n",
    "# So, what we could do with the above 3 features?\n",
    "# -> keep Age and Embarked (find a strategy to fill missing values)\n",
    "# -> remove Cabin"
   ]
  },
  {
   "cell_type": "code",
   "execution_count": null,
   "id": "dc9043ce",
   "metadata": {},
   "outputs": [],
   "source": [
    "# Let's see other features: Pclass, Sex, Fare (those intuitively should affect the Survived class)\n",
    "\n",
    "for feature in ['Pclass', 'Sex', 'Fare']:\n",
    "    plot(df, feature, 'Survived').show()"
   ]
  },
  {
   "cell_type": "code",
   "execution_count": null,
   "id": "ef156229",
   "metadata": {},
   "outputs": [],
   "source": [
    "# Comments:\n",
    "# The upper-class passengers, the female, and people with high Fare are more likely to be survived. \n",
    "# We should include these three features in our model if we want to predict the Survived class."
   ]
  },
  {
   "cell_type": "code",
   "execution_count": null,
   "id": "5227e39b",
   "metadata": {},
   "outputs": [],
   "source": [
    "# Let's get a correlation overview\n",
    "plot_correlation(df)"
   ]
  },
  {
   "cell_type": "code",
   "execution_count": null,
   "id": "1a2b1b1f",
   "metadata": {},
   "outputs": [],
   "source": [
    "# Comments:\n",
    "# The most correlated attributes are Parch and SibSp.\n",
    "# No any two attributes are highly correlated. So, don't need to worry about correlated features. \n",
    "\n",
    "# Parch and SibSp are slightly correlated in both computation and semantics.\n",
    "# -> we could construct a new feature named Relatives, based on Parch and SibSp, \n",
    "# that counts the total members for each passenger ;-)\n"
   ]
  },
  {
   "cell_type": "code",
   "execution_count": null,
   "id": "bdda181c",
   "metadata": {},
   "outputs": [],
   "source": [
    "# Another observation is that Survived is positive (slightly) correlated with Fare.\n",
    "# Let's see the correlation of one attribute (Fare) to the others\n",
    "plot_correlation(df, \"Fare\")"
   ]
  },
  {
   "cell_type": "code",
   "execution_count": null,
   "id": "5e82a7b9",
   "metadata": {},
   "outputs": [],
   "source": [
    "# Let's see the relationship in terms of instances between two attributes\n",
    "\n",
    "plot(df, \"Pclass\", \"Fare\")"
   ]
  },
  {
   "cell_type": "code",
   "execution_count": null,
   "id": "a25fe0d5",
   "metadata": {},
   "outputs": [],
   "source": [
    "# Let's see some exploration of categorical attributes\n",
    "plot(df, \"Sex\")"
   ]
  },
  {
   "cell_type": "code",
   "execution_count": null,
   "id": "73392694",
   "metadata": {},
   "outputs": [],
   "source": [
    "plot(df, \"Name\")"
   ]
  },
  {
   "cell_type": "code",
   "execution_count": null,
   "id": "dbd80e0f",
   "metadata": {},
   "outputs": [],
   "source": [
    "# Create a report with the overall overview\n",
    "create_report(df)"
   ]
  },
  {
   "cell_type": "code",
   "execution_count": null,
   "id": "bde76629",
   "metadata": {},
   "outputs": [],
   "source": []
  }
 ],
 "metadata": {
  "kernelspec": {
   "display_name": "local-venv",
   "language": "python",
   "name": "local-venv"
  },
  "language_info": {
   "codemirror_mode": {
    "name": "ipython",
    "version": 3
   },
   "file_extension": ".py",
   "mimetype": "text/x-python",
   "name": "python",
   "nbconvert_exporter": "python",
   "pygments_lexer": "ipython3",
   "version": "3.7.3"
  }
 },
 "nbformat": 4,
 "nbformat_minor": 5
}
