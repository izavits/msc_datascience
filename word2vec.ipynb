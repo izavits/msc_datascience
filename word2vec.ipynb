{
 "cells": [
  {
   "cell_type": "markdown",
   "id": "4910505b",
   "metadata": {},
   "source": [
    "# Pre-trained Word2Vec embeddings"
   ]
  },
  {
   "cell_type": "code",
   "execution_count": 1,
   "id": "bee4b5d2",
   "metadata": {},
   "outputs": [
    {
     "name": "stdout",
     "output_type": "stream",
     "text": [
      "Vocab length: 3000000\n"
     ]
    }
   ],
   "source": [
    "# Play with pre-trained word embeddings\n",
    "# Need to download GoogleNews-vectors-negative300.bin or other word2vec embeddings and copy to ./data folder\n",
    "\n",
    "\n",
    "# We will use the gensim library to import the word vectors\n",
    "import gensim\n",
    "\n",
    "# Load the word embeddings\n",
    "# (this is just a simple structure. Each word is a vector)\n",
    "model = gensim.models.KeyedVectors.load_word2vec_format('./data/GoogleNews-vectors-negative300.bin', binary=True)\n",
    "\n",
    "# Get the vocabulary (i.e. the unique words that were used to train these embeddings)\n",
    "vocab = model.vocab.keys()\n",
    "\n",
    "# Get the size of the Vocabulary\n",
    "wordsInVocab = len(vocab)\n",
    "print(f'Vocab length: {wordsInVocab}')"
   ]
  },
  {
   "cell_type": "markdown",
   "id": "785458c2",
   "metadata": {},
   "source": [
    "## Compute similarities"
   ]
  },
  {
   "cell_type": "code",
   "execution_count": 2,
   "id": "a1c2e800",
   "metadata": {},
   "outputs": [
    {
     "name": "stdout",
     "output_type": "stream",
     "text": [
      "Similarity between (dog, cat): 0.760945737361908\n",
      "Similarity between (king, queen): 0.6510956883430481\n",
      "Similarity between (car, computer): 0.246127188205719\n"
     ]
    }
   ],
   "source": [
    "# Compute similarities between words\n",
    "\n",
    "print(f'Similarity between (dog, cat): {model.similarity(\"dog\", \"cat\")}')\n",
    "print(f'Similarity between (king, queen): {model.similarity(\"king\", \"queen\")}')\n",
    "print(f'Similarity between (car, computer): {model.similarity(\"car\", \"computer\")}')"
   ]
  },
  {
   "cell_type": "code",
   "execution_count": 3,
   "id": "27c3fee4",
   "metadata": {},
   "outputs": [
    {
     "data": {
      "text/plain": [
       "[('spain', 0.6375303268432617),\n",
       " ('french', 0.6326056718826294),\n",
       " ('germany', 0.6314354538917542),\n",
       " ('europe', 0.6264256238937378),\n",
       " ('italy', 0.6257959008216858)]"
      ]
     },
     "execution_count": 3,
     "metadata": {},
     "output_type": "execute_result"
    }
   ],
   "source": [
    "# Look up most similar words\n",
    "model.most_similar('france', topn=5)"
   ]
  },
  {
   "cell_type": "code",
   "execution_count": 9,
   "id": "dc956cee",
   "metadata": {},
   "outputs": [
    {
     "name": "stdout",
     "output_type": "stream",
     "text": [
      "Sentence 1: this is sentence\n",
      "Sentence 2: this is also sentence\n",
      "Similarity = 0.960\n"
     ]
    }
   ],
   "source": [
    "# Compute similarities between sentences\n",
    "\n",
    "s1 = \"This is a sentence\"\n",
    "s2 = \"This is also a sentence\"\n",
    "\n",
    "# Normalize sentences: remove words not in vocabulary\n",
    "tokens = s1.split()\n",
    "s1_final = ''\n",
    "for t in tokens:\n",
    "    if t.lower() in model.vocab:\n",
    "        s1_final += t.lower() + ' '\n",
    "s1_final = s1_final.strip()\n",
    "\n",
    "tokens = s2.split()\n",
    "s2_final = ''\n",
    "for t in tokens:\n",
    "    if t.lower() in model.vocab:\n",
    "        s2_final += t.lower() + ' '\n",
    "s2_final = s2_final.strip()\n",
    "\n",
    "print(f'Sentence 1: {s1_final}')\n",
    "print(f'Sentence 2: {s2_final}')\n",
    "sml = model.n_similarity(s1_final.split(), s2_final.split())\n",
    "print('Similarity = %.3f' % sml)\n"
   ]
  },
  {
   "cell_type": "markdown",
   "id": "d43eda2a",
   "metadata": {},
   "source": [
    "## Vector Arithmetics"
   ]
  },
  {
   "cell_type": "code",
   "execution_count": 10,
   "id": "f95d246a",
   "metadata": {},
   "outputs": [
    {
     "name": "stdout",
     "output_type": "stream",
     "text": [
      "[('queen', 0.7118192911148071)]\n"
     ]
    }
   ],
   "source": [
    "# Most famous example:\n",
    "\n",
    "# \"Man to Woman is King to X\", what is X? (Answer: Queen)\n",
    "\n",
    "# We can apply basic arithmetic to Word2Vec vectors:\n",
    "# King - Man + Woman = ?\n",
    "\n",
    "# This means that if we take the notion of King and subtract the notion of Man \n",
    "# and add the notion of Woman, we get the notion of Queen\n",
    "\n",
    "result = model.most_similar(positive=['woman', 'king'], negative=['man'], topn=1)\n",
    "print(result)\n"
   ]
  },
  {
   "cell_type": "code",
   "execution_count": 24,
   "id": "8e81e5ad",
   "metadata": {},
   "outputs": [
    {
     "name": "stdout",
     "output_type": "stream",
     "text": [
      "[('Japan', 0.8167769908905029)]\n",
      "\n",
      "[('princess', 0.7421581745147705)]\n"
     ]
    }
   ],
   "source": [
    "# Similar examples\n",
    "result = model.most_similar(positive=['Tokyo', 'France'], negative=['Paris'], topn=1)\n",
    "print(result)\n",
    "\n",
    "print('')\n",
    "\n",
    "result = model.most_similar(positive=['girl', 'prince'], negative=['boy'], topn=1)\n",
    "print(result)"
   ]
  },
  {
   "cell_type": "code",
   "execution_count": 55,
   "id": "22eb34a0",
   "metadata": {},
   "outputs": [
    {
     "name": "stdout",
     "output_type": "stream",
     "text": [
      "[('nurse', 0.6588720679283142)]\n",
      "\n",
      "[('homemaker', 0.4312755763530731)]\n",
      "\n",
      "[('manicurist', 0.5636395215988159)]\n"
     ]
    }
   ],
   "source": [
    "# Probably not the best results: \n",
    "# but the model learns what we feed it\n",
    "\n",
    "result = model.most_similar(positive=['she', 'doctor'], negative=['he'], topn=1)\n",
    "print(result)\n",
    "\n",
    "print('')\n",
    "\n",
    "result = model.most_similar(positive=['woman', 'computer_programer'], negative=['man'], topn=1)\n",
    "print(result)\n",
    "\n",
    "print('')\n",
    "\n",
    "result = model.most_similar(positive=['she', 'janitor'], negative=['he'], topn=1)\n",
    "print(result)"
   ]
  },
  {
   "cell_type": "markdown",
   "id": "03c05188",
   "metadata": {},
   "source": [
    "*Gender bias and other types of bias is something we must deal with if we want to move toward ethical and transparent AI solutions*"
   ]
  },
  {
   "cell_type": "code",
   "execution_count": null,
   "id": "51df4930",
   "metadata": {},
   "outputs": [],
   "source": []
  }
 ],
 "metadata": {
  "kernelspec": {
   "display_name": "local-venv",
   "language": "python",
   "name": "local-venv"
  },
  "language_info": {
   "codemirror_mode": {
    "name": "ipython",
    "version": 3
   },
   "file_extension": ".py",
   "mimetype": "text/x-python",
   "name": "python",
   "nbconvert_exporter": "python",
   "pygments_lexer": "ipython3",
   "version": "3.7.3"
  }
 },
 "nbformat": 4,
 "nbformat_minor": 5
}
