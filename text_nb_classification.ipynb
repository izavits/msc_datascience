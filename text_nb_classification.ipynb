{
 "cells": [
  {
   "cell_type": "markdown",
   "id": "26734f92",
   "metadata": {},
   "source": [
    "# Text classification with Naive Bayes"
   ]
  },
  {
   "cell_type": "code",
   "execution_count": 1,
   "id": "43c84a0e",
   "metadata": {},
   "outputs": [
    {
     "data": {
      "text/plain": [
       "['alt.atheism',\n",
       " 'comp.graphics',\n",
       " 'comp.os.ms-windows.misc',\n",
       " 'comp.sys.ibm.pc.hardware',\n",
       " 'comp.sys.mac.hardware',\n",
       " 'comp.windows.x',\n",
       " 'misc.forsale',\n",
       " 'rec.autos',\n",
       " 'rec.motorcycles',\n",
       " 'rec.sport.baseball',\n",
       " 'rec.sport.hockey',\n",
       " 'sci.crypt',\n",
       " 'sci.electronics',\n",
       " 'sci.med',\n",
       " 'sci.space',\n",
       " 'soc.religion.christian',\n",
       " 'talk.politics.guns',\n",
       " 'talk.politics.mideast',\n",
       " 'talk.politics.misc',\n",
       " 'talk.religion.misc']"
      ]
     },
     "execution_count": 1,
     "metadata": {},
     "output_type": "execute_result"
    }
   ],
   "source": [
    "# Use the 20newsgroups corpus to classify short documents to categories\n",
    "\n",
    "from sklearn.datasets import fetch_20newsgroups\n",
    "\n",
    "# Fetch data and print the categories\n",
    "data = fetch_20newsgroups()\n",
    "data.target_names"
   ]
  },
  {
   "cell_type": "code",
   "execution_count": 2,
   "id": "4a2ddc25",
   "metadata": {},
   "outputs": [],
   "source": [
    "# Use a few of these categories and get the corresponding training and test sets\n",
    "categories = ['talk.religion.misc', 'soc.religion.christian', 'sci.space', 'comp.graphics']\n",
    "\n",
    "train = fetch_20newsgroups(subset='train', categories=categories)\n",
    "test = fetch_20newsgroups(subset='test', categories=categories)"
   ]
  },
  {
   "cell_type": "code",
   "execution_count": 3,
   "id": "f81ba3fe",
   "metadata": {},
   "outputs": [
    {
     "name": "stdout",
     "output_type": "stream",
     "text": [
      "From: jono@mac-ak-24.rtsg.mot.com (Jon Ogden)\n",
      "Subject: Re: Losing your temper is not a Christian trait\n",
      "Organization: Motorola LPA Development\n",
      "Lines: 26\n",
      "\n",
      "In article <Apr.23.02.55.47.1993.3138@geneva.rutgers.edu>, jcj@tellabs.com\n",
      "(jcj) wrote:\n",
      "\n",
      "> I'd like to remind people of the withering of the fig tree and Jesus\n",
      "> driving the money changers et. al. out of the temple.  I think those\n",
      "> were two instances of Christ showing anger (as part of His human side).\n",
      "> \n",
      "Yes, and what about Paul saying:\n",
      "\n",
      "26 Be ye angry, and sin not: let not the sun go down upon your wrath:\n",
      "(Ephesians 4:26).\n",
      "\n",
      "Obviously then, we can be angry w/o sinning.\n",
      "\n",
      "Jon\n",
      "\n",
      "------------------------------------------------\n",
      "Jon Ogden         - jono@mac-ak-24.rtsg.mot.com\n",
      "Motorola Cellular - Advanced Products Division\n",
      "Voice: 708-632-2521      Data: 708-632-6086\n",
      "------------------------------------------------\n",
      "\n",
      "They drew a circle and shut him out.\n",
      "Heretic, Rebel, a thing to flout.\n",
      "But Love and I had the wit to win;\n",
      "We drew a circle and took him in.\n",
      "\n"
     ]
    }
   ],
   "source": [
    "# Print a sample\n",
    "print(train.data[0])"
   ]
  },
  {
   "cell_type": "code",
   "execution_count": 4,
   "id": "d1a84519",
   "metadata": {},
   "outputs": [],
   "source": [
    "# We need to convert text to vectors\n",
    "# Use the TFIDF vectorizer\n",
    "\n",
    "from sklearn.feature_extraction.text import TfidfVectorizer\n",
    "from sklearn.naive_bayes import MultinomialNB\n",
    "from sklearn.pipeline import make_pipeline\n",
    "\n",
    "\n",
    "# Create a pipeline to train our model: vectorize text -> naive bayes\n",
    "model = make_pipeline(TfidfVectorizer(), MultinomialNB())"
   ]
  },
  {
   "cell_type": "code",
   "execution_count": 5,
   "id": "d92cc208",
   "metadata": {},
   "outputs": [],
   "source": [
    "# Train model using the training set (and the corresponding labels/categories)\n",
    "model.fit(train.data, train.target)\n",
    "\n",
    "# Predfict on test set\n",
    "labels = model.predict(test.data)"
   ]
  },
  {
   "cell_type": "code",
   "execution_count": 6,
   "id": "54d18130",
   "metadata": {},
   "outputs": [
    {
     "data": {
      "text/plain": [
       "Text(89.133125, 0.5, 'predicted label')"
      ]
     },
     "execution_count": 6,
     "metadata": {},
     "output_type": "execute_result"
    },
    {
     "data": {
      "image/png": "[encoded data removed]",
      "text/plain": [
       "<Figure size 432x288 with 1 Axes>"
      ]
     },
     "metadata": {},
     "output_type": "display_data"
    }
   ],
   "source": [
    "# Get an idea of the performance using the confusion matrix\n",
    "from sklearn.metrics import confusion_matrix\n",
    "import seaborn as sns; sns.set()\n",
    "import matplotlib.pyplot as plt\n",
    "\n",
    "matrix = confusion_matrix(test.target, labels)\n",
    "sns.heatmap(matrix.T, square=True, annot=True, fmt='d', cbar=False,\n",
    "           xticklabels=train.target_names, yticklabels=train.target_names)\n",
    "plt.xlabel('true label')\n",
    "plt.ylabel('predicted label')"
   ]
  },
  {
   "cell_type": "code",
   "execution_count": 31,
   "id": "dddf9a06",
   "metadata": {},
   "outputs": [
    {
     "name": "stdout",
     "output_type": "stream",
     "text": [
      "                        precision    recall  f1-score   support\n",
      "\n",
      "         comp.graphics      0.969     0.884     0.925       389\n",
      "             sci.space      0.924     0.924     0.924       394\n",
      "soc.religion.christian      0.617     0.985     0.759       398\n",
      "    talk.religion.misc      1.000     0.191     0.321       251\n",
      "\n",
      "              accuracy                          0.802      1432\n",
      "             macro avg      0.878     0.746     0.732      1432\n",
      "          weighted avg      0.864     0.802     0.773      1432\n",
      "\n"
     ]
    }
   ],
   "source": [
    "from sklearn.metrics import classification_report\n",
    "\n",
    "print(classification_report(\n",
    "    test.target,\n",
    "    labels,  \n",
    "    target_names=train.target_names,\n",
    "    digits=3\n",
    "))"
   ]
  },
  {
   "cell_type": "markdown",
   "id": "d7e19d49",
   "metadata": {},
   "source": [
    "*It seems that we succesfully separated space talk from computer talk, but there is a confusion between religion talk and christianity talk, which is probably expected. There are very similar areas.*"
   ]
  },
  {
   "cell_type": "markdown",
   "id": "348416c8",
   "metadata": {},
   "source": [
    "## Let's remember some basics to explain the above confusion matrix\n",
    "\n",
    "### Precision (P) = TP / (TP+FP)\n",
    "### Recall (R) = TP / (TP+FN)\n",
    "### F1 = 2*P*R/(P+R) = 2TP/(2TP+FP+FN)\n",
    "\n",
    "#### How many are the TP, FN, FP for this multi-class setting?\n",
    "\n",
    "| Label |      TP |  FN |  FP |\n",
    "|-------|---------|-----|-----|\n",
    "| graphics  | 344 |  45 |  11 |\n",
    "| space     | 364 |  30 |  30 |\n",
    "| christian | 392 |   6 | 243 |\n",
    "| misc      |  48 | 203 |   0 |\n",
    "|           |     |     |     |\n",
    "| Total    | 1148 | 284 | 284 |\n",
    "\n",
    "#### The Macro-avg F1 is the average F1 of all classes\n",
    "Macro-avg F1 = (0.925+0.924+0.759+0.321)/4 = 0.732\n",
    "\n",
    "#### The Micro-avg F1 is the result of the pooling of all TP, FN, FP (thus, it is the Accuracy)\n",
    "Micro-avg F1 = 2*1148 / (2*1148 + 284 + 284) = 0.802\n",
    "Accuracy = Correct / Total = 1148 / 1432 = 0.802\n",
    "\n",
    "#### Why the total examples is 1432? \n",
    "See Support column above\n",
    "\n",
    "#### The weighted avg is the average F1 of all classes weighted by the support of each class\n",
    "Weighted avg F1 = (389/1432)*0.925 + (394/1432)*0.924 + (398/1432)*0.759 + (251/1432)*0.321 = 0.773"
   ]
  },
  {
   "cell_type": "code",
   "execution_count": 32,
   "id": "50393cd3",
   "metadata": {},
   "outputs": [],
   "source": [
    "# Let's try to predict the category of new texts\n",
    "\n",
    "# We will define a simple method that given a text string \"s\", it asks the model to predict \n",
    "# the category for that text\n",
    "def predict_category(s, train=train, model=model):\n",
    "    pred = model.predict([s])\n",
    "    return train.target_names[pred[0]]"
   ]
  },
  {
   "cell_type": "code",
   "execution_count": 33,
   "id": "42334983",
   "metadata": {},
   "outputs": [
    {
     "data": {
      "text/plain": [
       "'sci.space'"
      ]
     },
     "execution_count": 33,
     "metadata": {},
     "output_type": "execute_result"
    }
   ],
   "source": [
    "predict_category('Huston we are sending a payload to the ISS')"
   ]
  },
  {
   "cell_type": "code",
   "execution_count": 34,
   "id": "c7c95e28",
   "metadata": {},
   "outputs": [
    {
     "data": {
      "text/plain": [
       "'soc.religion.christian'"
      ]
     },
     "execution_count": 34,
     "metadata": {},
     "output_type": "execute_result"
    }
   ],
   "source": [
    "predict_category('I am in a discussion between islam and christianity')"
   ]
  },
  {
   "cell_type": "code",
   "execution_count": 35,
   "id": "010dd9d9",
   "metadata": {},
   "outputs": [
    {
     "data": {
      "text/plain": [
       "'comp.graphics'"
      ]
     },
     "execution_count": 35,
     "metadata": {},
     "output_type": "execute_result"
    }
   ],
   "source": [
    "predict_category('the screen resolution is very low for this setting')"
   ]
  },
  {
   "cell_type": "code",
   "execution_count": 36,
   "id": "fdd0fbe0",
   "metadata": {},
   "outputs": [
    {
     "data": {
      "text/plain": [
       "'comp.graphics'"
      ]
     },
     "execution_count": 36,
     "metadata": {},
     "output_type": "execute_result"
    }
   ],
   "source": [
    "predict_category('this new card should be very fast and I cannot wait to see the new unreal graphic engine')"
   ]
  },
  {
   "cell_type": "code",
   "execution_count": 37,
   "id": "694c25c3",
   "metadata": {},
   "outputs": [
    {
     "data": {
      "text/plain": [
       "'sci.space'"
      ]
     },
     "execution_count": 37,
     "metadata": {},
     "output_type": "execute_result"
    }
   ],
   "source": [
    "predict_category('We are ready to launch in the countdown to 10')"
   ]
  },
  {
   "cell_type": "code",
   "execution_count": null,
   "id": "f8221d74",
   "metadata": {},
   "outputs": [],
   "source": []
  }
 ],
 "metadata": {
  "kernelspec": {
   "display_name": "local-venv",
   "language": "python",
   "name": "local-venv"
  },
  "language_info": {
   "codemirror_mode": {
    "name": "ipython",
    "version": 3
   },
   "file_extension": ".py",
   "mimetype": "text/x-python",
   "name": "python",
   "nbconvert_exporter": "python",
   "pygments_lexer": "ipython3",
   "version": "3.7.3"
  }
 },
 "nbformat": 4,
 "nbformat_minor": 5
}
