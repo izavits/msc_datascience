{
 "cells": [
  {
   "cell_type": "code",
   "execution_count": 1,
   "metadata": {},
   "outputs": [],
   "source": [
    "# Small scripts to play with data and perform simple tasks\n",
    "\n",
    "# You can play with various datasets from here: https://archive.ics.uci.edu/ml/index.php"
   ]
  },
  {
   "cell_type": "code",
   "execution_count": 2,
   "metadata": {},
   "outputs": [],
   "source": [
    "# Import necessary libraries\n",
    "import pandas as pd\n",
    "import matplotlib.pyplot as plt\n",
    "import numpy as np\n",
    "import scipy.stats as stats\n",
    "import seaborn as sns\n",
    "from matplotlib import rcParams\n",
    "\n",
    "pd.set_option('float_format', '{:f}'.format)"
   ]
  },
  {
   "cell_type": "code",
   "execution_count": 3,
   "metadata": {},
   "outputs": [],
   "source": [
    "# Read data using pandas\n",
    "df = pd.read_csv('./data/kc_house_data.csv')"
   ]
  },
  {
   "cell_type": "code",
   "execution_count": 4,
   "metadata": {},
   "outputs": [
    {
     "name": "stdout",
     "output_type": "stream",
     "text": [
      "(21613, 21)\n"
     ]
    },
    {
     "data": {
      "text/html": [
       "<div>\n",
       "<style scoped>\n",
       "    .dataframe tbody tr th:only-of-type {\n",
       "        vertical-align: middle;\n",
       "    }\n",
       "\n",
       "    .dataframe tbody tr th {\n",
       "        vertical-align: top;\n",
       "    }\n",
       "\n",
       "    .dataframe thead th {\n",
       "        text-align: right;\n",
       "    }\n",
       "</style>\n",
       "<table border=\"1\" class=\"dataframe\">\n",
       "  <thead>\n",
       "    <tr style=\"text-align: right;\">\n",
       "      <th></th>\n",
       "      <th>id</th>\n",
       "      <th>date</th>\n",
       "      <th>price</th>\n",
       "      <th>bedrooms</th>\n",
       "      <th>bathrooms</th>\n",
       "      <th>sqft_living</th>\n",
       "      <th>sqft_lot</th>\n",
       "      <th>floors</th>\n",
       "      <th>waterfront</th>\n",
       "      <th>view</th>\n",
       "      <th>...</th>\n",
       "      <th>grade</th>\n",
       "      <th>sqft_above</th>\n",
       "      <th>sqft_basement</th>\n",
       "      <th>yr_built</th>\n",
       "      <th>yr_renovated</th>\n",
       "      <th>zipcode</th>\n",
       "      <th>lat</th>\n",
       "      <th>long</th>\n",
       "      <th>sqft_living15</th>\n",
       "      <th>sqft_lot15</th>\n",
       "    </tr>\n",
       "  </thead>\n",
       "  <tbody>\n",
       "    <tr>\n",
       "      <th>0</th>\n",
       "      <td>7129300520</td>\n",
       "      <td>20141013T000000</td>\n",
       "      <td>221900.000000</td>\n",
       "      <td>3</td>\n",
       "      <td>1.000000</td>\n",
       "      <td>1180</td>\n",
       "      <td>5650</td>\n",
       "      <td>1.000000</td>\n",
       "      <td>0</td>\n",
       "      <td>0</td>\n",
       "      <td>...</td>\n",
       "      <td>7</td>\n",
       "      <td>1180.000000</td>\n",
       "      <td>0</td>\n",
       "      <td>1955</td>\n",
       "      <td>0</td>\n",
       "      <td>98178</td>\n",
       "      <td>47.511200</td>\n",
       "      <td>-122.257000</td>\n",
       "      <td>1340</td>\n",
       "      <td>5650</td>\n",
       "    </tr>\n",
       "    <tr>\n",
       "      <th>1</th>\n",
       "      <td>6414100192</td>\n",
       "      <td>20141209T000000</td>\n",
       "      <td>538000.000000</td>\n",
       "      <td>3</td>\n",
       "      <td>2.250000</td>\n",
       "      <td>2570</td>\n",
       "      <td>7242</td>\n",
       "      <td>2.000000</td>\n",
       "      <td>0</td>\n",
       "      <td>0</td>\n",
       "      <td>...</td>\n",
       "      <td>7</td>\n",
       "      <td>2170.000000</td>\n",
       "      <td>400</td>\n",
       "      <td>1951</td>\n",
       "      <td>1991</td>\n",
       "      <td>98125</td>\n",
       "      <td>47.721000</td>\n",
       "      <td>-122.319000</td>\n",
       "      <td>1690</td>\n",
       "      <td>7639</td>\n",
       "    </tr>\n",
       "    <tr>\n",
       "      <th>2</th>\n",
       "      <td>5631500400</td>\n",
       "      <td>20150225T000000</td>\n",
       "      <td>180000.000000</td>\n",
       "      <td>2</td>\n",
       "      <td>1.000000</td>\n",
       "      <td>770</td>\n",
       "      <td>10000</td>\n",
       "      <td>1.000000</td>\n",
       "      <td>0</td>\n",
       "      <td>0</td>\n",
       "      <td>...</td>\n",
       "      <td>6</td>\n",
       "      <td>770.000000</td>\n",
       "      <td>0</td>\n",
       "      <td>1933</td>\n",
       "      <td>0</td>\n",
       "      <td>98028</td>\n",
       "      <td>47.737900</td>\n",
       "      <td>-122.233000</td>\n",
       "      <td>2720</td>\n",
       "      <td>8062</td>\n",
       "    </tr>\n",
       "    <tr>\n",
       "      <th>3</th>\n",
       "      <td>2487200875</td>\n",
       "      <td>20141209T000000</td>\n",
       "      <td>604000.000000</td>\n",
       "      <td>4</td>\n",
       "      <td>3.000000</td>\n",
       "      <td>1960</td>\n",
       "      <td>5000</td>\n",
       "      <td>1.000000</td>\n",
       "      <td>0</td>\n",
       "      <td>0</td>\n",
       "      <td>...</td>\n",
       "      <td>7</td>\n",
       "      <td>1050.000000</td>\n",
       "      <td>910</td>\n",
       "      <td>1965</td>\n",
       "      <td>0</td>\n",
       "      <td>98136</td>\n",
       "      <td>47.520800</td>\n",
       "      <td>-122.393000</td>\n",
       "      <td>1360</td>\n",
       "      <td>5000</td>\n",
       "    </tr>\n",
       "    <tr>\n",
       "      <th>4</th>\n",
       "      <td>1954400510</td>\n",
       "      <td>20150218T000000</td>\n",
       "      <td>510000.000000</td>\n",
       "      <td>3</td>\n",
       "      <td>2.000000</td>\n",
       "      <td>1680</td>\n",
       "      <td>8080</td>\n",
       "      <td>1.000000</td>\n",
       "      <td>0</td>\n",
       "      <td>0</td>\n",
       "      <td>...</td>\n",
       "      <td>8</td>\n",
       "      <td>1680.000000</td>\n",
       "      <td>0</td>\n",
       "      <td>1987</td>\n",
       "      <td>0</td>\n",
       "      <td>98074</td>\n",
       "      <td>47.616800</td>\n",
       "      <td>-122.045000</td>\n",
       "      <td>1800</td>\n",
       "      <td>7503</td>\n",
       "    </tr>\n",
       "  </tbody>\n",
       "</table>\n",
       "<p>5 rows × 21 columns</p>\n",
       "</div>"
      ],
      "text/plain": [
       "           id             date         price  bedrooms  bathrooms  \\\n",
       "0  7129300520  20141013T000000 221900.000000         3   1.000000   \n",
       "1  6414100192  20141209T000000 538000.000000         3   2.250000   \n",
       "2  5631500400  20150225T000000 180000.000000         2   1.000000   \n",
       "3  2487200875  20141209T000000 604000.000000         4   3.000000   \n",
       "4  1954400510  20150218T000000 510000.000000         3   2.000000   \n",
       "\n",
       "   sqft_living  sqft_lot   floors  waterfront  view  ...  grade  sqft_above  \\\n",
       "0         1180      5650 1.000000           0     0  ...      7 1180.000000   \n",
       "1         2570      7242 2.000000           0     0  ...      7 2170.000000   \n",
       "2          770     10000 1.000000           0     0  ...      6  770.000000   \n",
       "3         1960      5000 1.000000           0     0  ...      7 1050.000000   \n",
       "4         1680      8080 1.000000           0     0  ...      8 1680.000000   \n",
       "\n",
       "   sqft_basement  yr_built  yr_renovated  zipcode       lat        long  \\\n",
       "0              0      1955             0    98178 47.511200 -122.257000   \n",
       "1            400      1951          1991    98125 47.721000 -122.319000   \n",
       "2              0      1933             0    98028 47.737900 -122.233000   \n",
       "3            910      1965             0    98136 47.520800 -122.393000   \n",
       "4              0      1987             0    98074 47.616800 -122.045000   \n",
       "\n",
       "   sqft_living15  sqft_lot15  \n",
       "0           1340        5650  \n",
       "1           1690        7639  \n",
       "2           2720        8062  \n",
       "3           1360        5000  \n",
       "4           1800        7503  \n",
       "\n",
       "[5 rows x 21 columns]"
      ]
     },
     "execution_count": 4,
     "metadata": {},
     "output_type": "execute_result"
    }
   ],
   "source": [
    "# Print dimensions\n",
    "print(df.shape)\n",
    "# Print a few rows\n",
    "df.head()"
   ]
  },
  {
   "cell_type": "code",
   "execution_count": 5,
   "metadata": {},
   "outputs": [
    {
     "name": "stdout",
     "output_type": "stream",
     "text": [
      "Dimensions: (21614, 2)\n",
      "\n",
      "price\tsqft_living\n",
      "[221900.0 1180.0]\n",
      "[538000.0 2570.0]\n",
      "[180000.0 770.0]\n",
      "[604000.0 1960.0]\n"
     ]
    }
   ],
   "source": [
    "# Other way to read file, using numpy\n",
    "from numpy import genfromtxt\n",
    "# Read 2 specific columns\n",
    "data = genfromtxt('./data/kc_house_data.csv',delimiter=',',usecols=(2,5)) \n",
    "\n",
    "# Print dimensions\n",
    "print(f'Dimensions: {data.shape}\\n')\n",
    "\n",
    "# Print data\n",
    "print('price\\tsqft_living')\n",
    "for i in range(1,5):\n",
    "    print(np.array2string(data[i], formatter={'float_kind':'{0:.1f}'.format}))"
   ]
  },
  {
   "cell_type": "code",
   "execution_count": 6,
   "metadata": {},
   "outputs": [
    {
     "data": {
      "text/plain": [
       "id               False\n",
       "date             False\n",
       "price            False\n",
       "bedrooms         False\n",
       "bathrooms        False\n",
       "sqft_living      False\n",
       "sqft_lot         False\n",
       "floors           False\n",
       "waterfront       False\n",
       "view             False\n",
       "condition        False\n",
       "grade            False\n",
       "sqft_above        True\n",
       "sqft_basement    False\n",
       "yr_built         False\n",
       "yr_renovated     False\n",
       "zipcode          False\n",
       "lat              False\n",
       "long             False\n",
       "sqft_living15    False\n",
       "sqft_lot15       False\n",
       "dtype: bool"
      ]
     },
     "execution_count": 6,
     "metadata": {},
     "output_type": "execute_result"
    }
   ],
   "source": [
    "# Continue with the dataframe\n",
    "# Check to see if there are any null values in the data\n",
    "df.isnull().any()"
   ]
  },
  {
   "cell_type": "code",
   "execution_count": 7,
   "metadata": {},
   "outputs": [
    {
     "data": {
      "text/plain": [
       "id                 int64\n",
       "date              object\n",
       "price            float64\n",
       "bedrooms           int64\n",
       "bathrooms        float64\n",
       "sqft_living        int64\n",
       "sqft_lot           int64\n",
       "floors           float64\n",
       "waterfront         int64\n",
       "view               int64\n",
       "condition          int64\n",
       "grade              int64\n",
       "sqft_above       float64\n",
       "sqft_basement      int64\n",
       "yr_built           int64\n",
       "yr_renovated       int64\n",
       "zipcode            int64\n",
       "lat              float64\n",
       "long             float64\n",
       "sqft_living15      int64\n",
       "sqft_lot15         int64\n",
       "dtype: object"
      ]
     },
     "execution_count": 7,
     "metadata": {},
     "output_type": "execute_result"
    }
   ],
   "source": [
    "# Check out the data types\n",
    "df.dtypes"
   ]
  },
  {
   "cell_type": "code",
   "execution_count": 8,
   "metadata": {},
   "outputs": [
    {
     "data": {
      "text/html": [
       "<div>\n",
       "<style scoped>\n",
       "    .dataframe tbody tr th:only-of-type {\n",
       "        vertical-align: middle;\n",
       "    }\n",
       "\n",
       "    .dataframe tbody tr th {\n",
       "        vertical-align: top;\n",
       "    }\n",
       "\n",
       "    .dataframe thead th {\n",
       "        text-align: right;\n",
       "    }\n",
       "</style>\n",
       "<table border=\"1\" class=\"dataframe\">\n",
       "  <thead>\n",
       "    <tr style=\"text-align: right;\">\n",
       "      <th></th>\n",
       "      <th>id</th>\n",
       "      <th>price</th>\n",
       "      <th>bedrooms</th>\n",
       "      <th>bathrooms</th>\n",
       "      <th>sqft_living</th>\n",
       "      <th>sqft_lot</th>\n",
       "      <th>floors</th>\n",
       "      <th>waterfront</th>\n",
       "      <th>view</th>\n",
       "      <th>condition</th>\n",
       "      <th>grade</th>\n",
       "      <th>sqft_above</th>\n",
       "      <th>sqft_basement</th>\n",
       "      <th>yr_built</th>\n",
       "      <th>yr_renovated</th>\n",
       "      <th>zipcode</th>\n",
       "      <th>lat</th>\n",
       "      <th>long</th>\n",
       "      <th>sqft_living15</th>\n",
       "      <th>sqft_lot15</th>\n",
       "    </tr>\n",
       "  </thead>\n",
       "  <tbody>\n",
       "    <tr>\n",
       "      <th>count</th>\n",
       "      <td>21613.000000</td>\n",
       "      <td>21613.000000</td>\n",
       "      <td>21613.000000</td>\n",
       "      <td>21613.000000</td>\n",
       "      <td>21613.000000</td>\n",
       "      <td>21613.000000</td>\n",
       "      <td>21613.000000</td>\n",
       "      <td>21613.000000</td>\n",
       "      <td>21613.000000</td>\n",
       "      <td>21613.000000</td>\n",
       "      <td>21613.000000</td>\n",
       "      <td>21611.000000</td>\n",
       "      <td>21613.000000</td>\n",
       "      <td>21613.000000</td>\n",
       "      <td>21613.000000</td>\n",
       "      <td>21613.000000</td>\n",
       "      <td>21613.000000</td>\n",
       "      <td>21613.000000</td>\n",
       "      <td>21613.000000</td>\n",
       "      <td>21613.000000</td>\n",
       "    </tr>\n",
       "    <tr>\n",
       "      <th>mean</th>\n",
       "      <td>4580301520.864988</td>\n",
       "      <td>540088.141767</td>\n",
       "      <td>3.370842</td>\n",
       "      <td>2.114757</td>\n",
       "      <td>2079.899736</td>\n",
       "      <td>15106.967566</td>\n",
       "      <td>1.494309</td>\n",
       "      <td>0.007542</td>\n",
       "      <td>0.234303</td>\n",
       "      <td>3.409430</td>\n",
       "      <td>7.656873</td>\n",
       "      <td>1788.396095</td>\n",
       "      <td>291.509045</td>\n",
       "      <td>1971.005136</td>\n",
       "      <td>84.402258</td>\n",
       "      <td>98077.939805</td>\n",
       "      <td>47.560053</td>\n",
       "      <td>-122.213896</td>\n",
       "      <td>1986.552492</td>\n",
       "      <td>12768.455652</td>\n",
       "    </tr>\n",
       "    <tr>\n",
       "      <th>std</th>\n",
       "      <td>2876565571.312057</td>\n",
       "      <td>367127.196483</td>\n",
       "      <td>0.930062</td>\n",
       "      <td>0.770163</td>\n",
       "      <td>918.440897</td>\n",
       "      <td>41420.511515</td>\n",
       "      <td>0.539989</td>\n",
       "      <td>0.086517</td>\n",
       "      <td>0.766318</td>\n",
       "      <td>0.650743</td>\n",
       "      <td>1.175459</td>\n",
       "      <td>828.128162</td>\n",
       "      <td>442.575043</td>\n",
       "      <td>29.373411</td>\n",
       "      <td>401.679240</td>\n",
       "      <td>53.505026</td>\n",
       "      <td>0.138564</td>\n",
       "      <td>0.140828</td>\n",
       "      <td>685.391304</td>\n",
       "      <td>27304.179631</td>\n",
       "    </tr>\n",
       "    <tr>\n",
       "      <th>min</th>\n",
       "      <td>1000102.000000</td>\n",
       "      <td>75000.000000</td>\n",
       "      <td>0.000000</td>\n",
       "      <td>0.000000</td>\n",
       "      <td>290.000000</td>\n",
       "      <td>520.000000</td>\n",
       "      <td>1.000000</td>\n",
       "      <td>0.000000</td>\n",
       "      <td>0.000000</td>\n",
       "      <td>1.000000</td>\n",
       "      <td>1.000000</td>\n",
       "      <td>290.000000</td>\n",
       "      <td>0.000000</td>\n",
       "      <td>1900.000000</td>\n",
       "      <td>0.000000</td>\n",
       "      <td>98001.000000</td>\n",
       "      <td>47.155900</td>\n",
       "      <td>-122.519000</td>\n",
       "      <td>399.000000</td>\n",
       "      <td>651.000000</td>\n",
       "    </tr>\n",
       "    <tr>\n",
       "      <th>25%</th>\n",
       "      <td>2123049194.000000</td>\n",
       "      <td>321950.000000</td>\n",
       "      <td>3.000000</td>\n",
       "      <td>1.750000</td>\n",
       "      <td>1427.000000</td>\n",
       "      <td>5040.000000</td>\n",
       "      <td>1.000000</td>\n",
       "      <td>0.000000</td>\n",
       "      <td>0.000000</td>\n",
       "      <td>3.000000</td>\n",
       "      <td>7.000000</td>\n",
       "      <td>1190.000000</td>\n",
       "      <td>0.000000</td>\n",
       "      <td>1951.000000</td>\n",
       "      <td>0.000000</td>\n",
       "      <td>98033.000000</td>\n",
       "      <td>47.471000</td>\n",
       "      <td>-122.328000</td>\n",
       "      <td>1490.000000</td>\n",
       "      <td>5100.000000</td>\n",
       "    </tr>\n",
       "    <tr>\n",
       "      <th>50%</th>\n",
       "      <td>3904930410.000000</td>\n",
       "      <td>450000.000000</td>\n",
       "      <td>3.000000</td>\n",
       "      <td>2.250000</td>\n",
       "      <td>1910.000000</td>\n",
       "      <td>7618.000000</td>\n",
       "      <td>1.500000</td>\n",
       "      <td>0.000000</td>\n",
       "      <td>0.000000</td>\n",
       "      <td>3.000000</td>\n",
       "      <td>7.000000</td>\n",
       "      <td>1560.000000</td>\n",
       "      <td>0.000000</td>\n",
       "      <td>1975.000000</td>\n",
       "      <td>0.000000</td>\n",
       "      <td>98065.000000</td>\n",
       "      <td>47.571800</td>\n",
       "      <td>-122.230000</td>\n",
       "      <td>1840.000000</td>\n",
       "      <td>7620.000000</td>\n",
       "    </tr>\n",
       "    <tr>\n",
       "      <th>75%</th>\n",
       "      <td>7308900445.000000</td>\n",
       "      <td>645000.000000</td>\n",
       "      <td>4.000000</td>\n",
       "      <td>2.500000</td>\n",
       "      <td>2550.000000</td>\n",
       "      <td>10688.000000</td>\n",
       "      <td>2.000000</td>\n",
       "      <td>0.000000</td>\n",
       "      <td>0.000000</td>\n",
       "      <td>4.000000</td>\n",
       "      <td>8.000000</td>\n",
       "      <td>2210.000000</td>\n",
       "      <td>560.000000</td>\n",
       "      <td>1997.000000</td>\n",
       "      <td>0.000000</td>\n",
       "      <td>98118.000000</td>\n",
       "      <td>47.678000</td>\n",
       "      <td>-122.125000</td>\n",
       "      <td>2360.000000</td>\n",
       "      <td>10083.000000</td>\n",
       "    </tr>\n",
       "    <tr>\n",
       "      <th>max</th>\n",
       "      <td>9900000190.000000</td>\n",
       "      <td>7700000.000000</td>\n",
       "      <td>33.000000</td>\n",
       "      <td>8.000000</td>\n",
       "      <td>13540.000000</td>\n",
       "      <td>1651359.000000</td>\n",
       "      <td>3.500000</td>\n",
       "      <td>1.000000</td>\n",
       "      <td>4.000000</td>\n",
       "      <td>5.000000</td>\n",
       "      <td>13.000000</td>\n",
       "      <td>9410.000000</td>\n",
       "      <td>4820.000000</td>\n",
       "      <td>2015.000000</td>\n",
       "      <td>2015.000000</td>\n",
       "      <td>98199.000000</td>\n",
       "      <td>47.777600</td>\n",
       "      <td>-121.315000</td>\n",
       "      <td>6210.000000</td>\n",
       "      <td>871200.000000</td>\n",
       "    </tr>\n",
       "  </tbody>\n",
       "</table>\n",
       "</div>"
      ],
      "text/plain": [
       "                     id          price     bedrooms    bathrooms  sqft_living  \\\n",
       "count      21613.000000   21613.000000 21613.000000 21613.000000 21613.000000   \n",
       "mean  4580301520.864988  540088.141767     3.370842     2.114757  2079.899736   \n",
       "std   2876565571.312057  367127.196483     0.930062     0.770163   918.440897   \n",
       "min      1000102.000000   75000.000000     0.000000     0.000000   290.000000   \n",
       "25%   2123049194.000000  321950.000000     3.000000     1.750000  1427.000000   \n",
       "50%   3904930410.000000  450000.000000     3.000000     2.250000  1910.000000   \n",
       "75%   7308900445.000000  645000.000000     4.000000     2.500000  2550.000000   \n",
       "max   9900000190.000000 7700000.000000    33.000000     8.000000 13540.000000   \n",
       "\n",
       "            sqft_lot       floors   waterfront         view    condition  \\\n",
       "count   21613.000000 21613.000000 21613.000000 21613.000000 21613.000000   \n",
       "mean    15106.967566     1.494309     0.007542     0.234303     3.409430   \n",
       "std     41420.511515     0.539989     0.086517     0.766318     0.650743   \n",
       "min       520.000000     1.000000     0.000000     0.000000     1.000000   \n",
       "25%      5040.000000     1.000000     0.000000     0.000000     3.000000   \n",
       "50%      7618.000000     1.500000     0.000000     0.000000     3.000000   \n",
       "75%     10688.000000     2.000000     0.000000     0.000000     4.000000   \n",
       "max   1651359.000000     3.500000     1.000000     4.000000     5.000000   \n",
       "\n",
       "             grade   sqft_above  sqft_basement     yr_built  yr_renovated  \\\n",
       "count 21613.000000 21611.000000   21613.000000 21613.000000  21613.000000   \n",
       "mean      7.656873  1788.396095     291.509045  1971.005136     84.402258   \n",
       "std       1.175459   828.128162     442.575043    29.373411    401.679240   \n",
       "min       1.000000   290.000000       0.000000  1900.000000      0.000000   \n",
       "25%       7.000000  1190.000000       0.000000  1951.000000      0.000000   \n",
       "50%       7.000000  1560.000000       0.000000  1975.000000      0.000000   \n",
       "75%       8.000000  2210.000000     560.000000  1997.000000      0.000000   \n",
       "max      13.000000  9410.000000    4820.000000  2015.000000   2015.000000   \n",
       "\n",
       "           zipcode          lat         long  sqft_living15    sqft_lot15  \n",
       "count 21613.000000 21613.000000 21613.000000   21613.000000  21613.000000  \n",
       "mean  98077.939805    47.560053  -122.213896    1986.552492  12768.455652  \n",
       "std      53.505026     0.138564     0.140828     685.391304  27304.179631  \n",
       "min   98001.000000    47.155900  -122.519000     399.000000    651.000000  \n",
       "25%   98033.000000    47.471000  -122.328000    1490.000000   5100.000000  \n",
       "50%   98065.000000    47.571800  -122.230000    1840.000000   7620.000000  \n",
       "75%   98118.000000    47.678000  -122.125000    2360.000000  10083.000000  \n",
       "max   98199.000000    47.777600  -121.315000    6210.000000 871200.000000  "
      ]
     },
     "execution_count": 8,
     "metadata": {},
     "output_type": "execute_result"
    }
   ],
   "source": [
    "# Get a summary of the data\n",
    "df.describe()"
   ]
  },
  {
   "cell_type": "code",
   "execution_count": 9,
   "metadata": {},
   "outputs": [
    {
     "data": {
      "text/plain": [
       "count     21613.000000\n",
       "mean     540088.141767\n",
       "std      367127.196483\n",
       "min       75000.000000\n",
       "25%      321950.000000\n",
       "50%      450000.000000\n",
       "75%      645000.000000\n",
       "max     7700000.000000\n",
       "Name: price, dtype: float64"
      ]
     },
     "execution_count": 9,
     "metadata": {},
     "output_type": "execute_result"
    }
   ],
   "source": [
    "# Describe a specific attribute\n",
    "df['price'].describe()"
   ]
  },
  {
   "cell_type": "code",
   "execution_count": 49,
   "metadata": {},
   "outputs": [],
   "source": [
    "# Some comments: \n",
    "# We are working with a data set that contains 21,613 observations (see count)\n",
    "# Mean price is approximately $540k \n",
    "# Median price is approximately $450k \n",
    "# Average house area is ~ 2080 ft2"
   ]
  },
  {
   "cell_type": "code",
   "execution_count": 10,
   "metadata": {},
   "outputs": [
    {
     "data": {
      "text/plain": [
       "Text(0.5, 1.0, 'Histogram of Housing Prices')"
      ]
     },
     "execution_count": 10,
     "metadata": {},
     "output_type": "execute_result"
    },
    {
     "data": {
      "image/png": "[encoded data removed]",
      "text/plain": [
       "<Figure size 1728x432 with 2 Axes>"
      ]
     },
     "metadata": {
      "needs_background": "light"
     },
     "output_type": "display_data"
    }
   ],
   "source": [
    "# Let's plot some histograms\n",
    "\n",
    "fig = plt.figure(figsize=(24, 6))\n",
    "sqft = fig.add_subplot(121)\n",
    "cost = fig.add_subplot(122)\n",
    "\n",
    "sqft.hist(df.sqft_living, bins=80)\n",
    "sqft.set_xlabel('Ft^2')\n",
    "sqft.set_title(\"Histogram of House Square Footage\")\n",
    "\n",
    "cost.hist(df.price, bins=80)\n",
    "cost.set_xlabel('Price ($)')\n",
    "cost.set_title(\"Histogram of Housing Prices\")"
   ]
  },
  {
   "cell_type": "code",
   "execution_count": 11,
   "metadata": {},
   "outputs": [],
   "source": [
    "# Observation:\n",
    "# Both variables have a distribution that is skewed."
   ]
  },
  {
   "cell_type": "code",
   "execution_count": null,
   "metadata": {},
   "outputs": [],
   "source": [
    "\n"
   ]
  },
  {
   "cell_type": "code",
   "execution_count": 12,
   "metadata": {},
   "outputs": [],
   "source": [
    "##### EXAMPLES TO CREATE RANDOM DATA #####"
   ]
  },
  {
   "cell_type": "code",
   "execution_count": 13,
   "metadata": {},
   "outputs": [
    {
     "name": "stdout",
     "output_type": "stream",
     "text": [
      "Random name:\n",
      "Kimberly Griffin\n",
      "\n",
      "Random address:\n",
      "9100 Contreras Pine Apt. 022\n",
      "Stevenstad, GA 48865\n"
     ]
    }
   ],
   "source": [
    "# Generate synthetic data examples\n",
    "from faker import Faker\n",
    "fake = Faker()\n",
    "\n",
    "name = fake.name()\n",
    "address = fake.address()\n",
    "\n",
    "print(f'Random name:\\n{name}\\n')\n",
    "print(f'Random address:\\n{address}')"
   ]
  },
  {
   "cell_type": "code",
   "execution_count": 14,
   "metadata": {},
   "outputs": [
    {
     "name": "stdout",
     "output_type": "stream",
     "text": [
      "Random job: Education administrator\n",
      "Random number: 2938\n",
      "Random phone: 974.694.9156\n",
      "Random female name: Kristi\n",
      "Random email: zriley@yahoo.com\n",
      "Random geolocation: (Decimal('28.3587275'), Decimal('-130.986350'))\n",
      "Random date: 1977-05-22\n",
      "Random company: Singh, Miller and Calhoun\n"
     ]
    }
   ],
   "source": [
    "# continue with synthetic data\n",
    "job = fake.job()\n",
    "num = fake.pyint()\n",
    "phone = fake.phone_number()\n",
    "name_f = fake.first_name_female()\n",
    "email = fake.ascii_email()\n",
    "geo = fake.latlng()\n",
    "date = fake.date()\n",
    "company = fake.company()\n",
    "\n",
    "print(f'Random job: {job}')\n",
    "print(f'Random number: {num}')\n",
    "print(f'Random phone: {phone}')\n",
    "print(f'Random female name: {name_f}')\n",
    "print(f'Random email: {email}')\n",
    "print(f'Random geolocation: {geo}')\n",
    "print(f'Random date: {date}')\n",
    "print(f'Random company: {company}')"
   ]
  },
  {
   "cell_type": "code",
   "execution_count": 16,
   "metadata": {},
   "outputs": [
    {
     "name": "stdout",
     "output_type": "stream",
     "text": [
      "Random name:\n",
      "Ρεγγίνα Δημητρίου\n",
      "\n",
      "Random address:\n",
      "Αϊδινίου 48,\n",
      "301 23 Λευκάδα\n",
      "\n",
      "Random job: Τεχνικός Ψηφιακής Φωτογραφίας και CD-ROM\n",
      "Random phone: 2104244953\n",
      "Random female name: Μιράντα\n",
      "Random company: Καλαργυρός, Ευστρατόπουλος and Πολυχρόνης\n"
     ]
    }
   ],
   "source": [
    "# What about GR synthetic data?\n",
    "\n",
    "fake = Faker('el_GR')\n",
    "\n",
    "name = fake.name()\n",
    "address = fake.address()\n",
    "\n",
    "print(f'Random name:\\n{name}\\n')\n",
    "print(f'Random address:\\n{address}\\n')\n",
    "\n",
    "job = fake.job()\n",
    "num = fake.pyint()\n",
    "phone = fake.phone_number()\n",
    "name_f = fake.first_name_female()\n",
    "email = fake.ascii_email()\n",
    "geo = fake.latlng()\n",
    "date = fake.date()\n",
    "company = fake.company()\n",
    "print(f'Random job: {job}')\n",
    "print(f'Random phone: {phone}')\n",
    "print(f'Random female name: {name_f}')\n",
    "print(f'Random company: {company}')"
   ]
  },
  {
   "cell_type": "code",
   "execution_count": 17,
   "metadata": {},
   "outputs": [],
   "source": [
    "# Play with SQL\n",
    "\n",
    "import sqlite3\n",
    "\n",
    "# Create a connection\n",
    "conn = sqlite3.connect('./data/example.db')\n",
    "\n",
    "# Create a table\n",
    "conn.execute('''CREATE TABLE EMPLOYEE\n",
    "             (ID INT PRIMARY KEY     NOT NULL,\n",
    "             NAME           TEXT    NOT NULL,\n",
    "             AGE            INT     NOT NULL,\n",
    "             ADDRESS        CHAR(50),\n",
    "             SALARY         REAL);''')\n",
    "\n",
    "# Close connection\n",
    "conn.close()"
   ]
  },
  {
   "cell_type": "code",
   "execution_count": 18,
   "metadata": {},
   "outputs": [],
   "source": [
    "# Insert some records\n",
    "conn = sqlite3.connect('./data/example.db')\n",
    "\n",
    "conn.execute(\"INSERT INTO EMPLOYEE (ID,NAME,AGE,ADDRESS,SALARY) \\\n",
    "      VALUES (1, 'Bob', 32, 'California', 20000.00 )\");\n",
    "\n",
    "conn.execute(\"INSERT INTO EMPLOYEE (ID,NAME,AGE,ADDRESS,SALARY) \\\n",
    "      VALUES (2, 'Alice', 25, 'Texas', 15000.00 )\");\n",
    "\n",
    "conn.execute(\"INSERT INTO EMPLOYEE (ID,NAME,AGE,ADDRESS,SALARY) \\\n",
    "      VALUES (3, 'Joe', 23, 'Norway', 20000.00 )\");\n",
    "\n",
    "conn.execute(\"INSERT INTO EMPLOYEE (ID,NAME,AGE,ADDRESS,SALARY) \\\n",
    "      VALUES (4, 'Mary', 25, 'Rich-Mond ', 65000.00 )\");\n",
    "\n",
    "conn.commit()\n",
    "conn.close()"
   ]
  },
  {
   "cell_type": "code",
   "execution_count": 19,
   "metadata": {},
   "outputs": [
    {
     "name": "stdout",
     "output_type": "stream",
     "text": [
      "ID: 1\n",
      "NAME: Bob\n",
      "ADDRESS: California\n",
      "SALARY: 20000.0\n",
      "\n",
      "ID: 2\n",
      "NAME: Alice\n",
      "ADDRESS: Texas\n",
      "SALARY: 15000.0\n",
      "\n",
      "ID: 3\n",
      "NAME: Joe\n",
      "ADDRESS: Norway\n",
      "SALARY: 20000.0\n",
      "\n",
      "ID: 4\n",
      "NAME: Mary\n",
      "ADDRESS: Rich-Mond \n",
      "SALARY: 65000.0\n",
      "\n"
     ]
    }
   ],
   "source": [
    "# Perform query\n",
    "conn = sqlite3.connect('./data/example.db')\n",
    "\n",
    "cursor = conn.execute(\"SELECT id, name, address, salary from EMPLOYEE\")\n",
    "for row in cursor:\n",
    "    print(f'ID: {row[0]}')\n",
    "    print(f'NAME: {row[1]}')\n",
    "    print(f'ADDRESS: {row[2]}')\n",
    "    print(f'SALARY: {row[3]}')\n",
    "    print()\n",
    "\n",
    "conn.close()"
   ]
  },
  {
   "cell_type": "code",
   "execution_count": 20,
   "metadata": {},
   "outputs": [
    {
     "name": "stdout",
     "output_type": "stream",
     "text": [
      "Total number of rows updated: 1\n",
      "ID: 1\n",
      "NAME: Bob\n",
      "ADDRESS: California\n",
      "SALARY: 30000.0\n",
      "\n",
      "ID: 2\n",
      "NAME: Alice\n",
      "ADDRESS: Texas\n",
      "SALARY: 15000.0\n",
      "\n",
      "ID: 3\n",
      "NAME: Joe\n",
      "ADDRESS: Norway\n",
      "SALARY: 20000.0\n",
      "\n",
      "ID: 4\n",
      "NAME: Mary\n",
      "ADDRESS: Rich-Mond \n",
      "SALARY: 65000.0\n",
      "\n"
     ]
    }
   ],
   "source": [
    "# Perform update\n",
    "conn = sqlite3.connect('./data/example.db')\n",
    "\n",
    "conn.execute(\"UPDATE EMPLOYEE set SALARY = 30000.00 where ID = 1\")\n",
    "conn.commit()\n",
    "print(f'Total number of rows updated: {conn.total_changes}')\n",
    "\n",
    "# Check the updated result\n",
    "cursor = conn.execute(\"SELECT id, name, address, salary from EMPLOYEE\")\n",
    "for row in cursor:\n",
    "    print(f'ID: {row[0]}')\n",
    "    print(f'NAME: {row[1]}')\n",
    "    print(f'ADDRESS: {row[2]}')\n",
    "    print(f'SALARY: {row[3]}')\n",
    "    print()\n",
    "\n",
    "conn.close()"
   ]
  },
  {
   "cell_type": "code",
   "execution_count": 21,
   "metadata": {},
   "outputs": [
    {
     "name": "stdout",
     "output_type": "stream",
     "text": [
      "Total number of rows updated: 1\n",
      "ID: 1\n",
      "NAME: Bob\n",
      "ADDRESS: California\n",
      "SALARY: 30000.0\n",
      "\n",
      "ID: 3\n",
      "NAME: Joe\n",
      "ADDRESS: Norway\n",
      "SALARY: 20000.0\n",
      "\n",
      "ID: 4\n",
      "NAME: Mary\n",
      "ADDRESS: Rich-Mond \n",
      "SALARY: 65000.0\n",
      "\n"
     ]
    }
   ],
   "source": [
    "# Perform delete\n",
    "conn = sqlite3.connect('./data/example.db')\n",
    "\n",
    "conn.execute(\"DELETE from EMPLOYEE where ID = 2;\")\n",
    "conn.commit()\n",
    "print(f'Total number of rows updated: {conn.total_changes}')\n",
    "\n",
    "# Check the updated result\n",
    "cursor = conn.execute(\"SELECT id, name, address, salary from EMPLOYEE\")\n",
    "for row in cursor:\n",
    "    print(f'ID: {row[0]}')\n",
    "    print(f'NAME: {row[1]}')\n",
    "    print(f'ADDRESS: {row[2]}')\n",
    "    print(f'SALARY: {row[3]}')\n",
    "    print()\n",
    "\n",
    "conn.close()"
   ]
  },
  {
   "cell_type": "code",
   "execution_count": 22,
   "metadata": {},
   "outputs": [
    {
     "data": {
      "text/html": [
       "<div>\n",
       "<style scoped>\n",
       "    .dataframe tbody tr th:only-of-type {\n",
       "        vertical-align: middle;\n",
       "    }\n",
       "\n",
       "    .dataframe tbody tr th {\n",
       "        vertical-align: top;\n",
       "    }\n",
       "\n",
       "    .dataframe thead th {\n",
       "        text-align: right;\n",
       "    }\n",
       "</style>\n",
       "<table border=\"1\" class=\"dataframe\">\n",
       "  <thead>\n",
       "    <tr style=\"text-align: right;\">\n",
       "      <th></th>\n",
       "      <th>ID</th>\n",
       "      <th>NAME</th>\n",
       "      <th>AGE</th>\n",
       "      <th>ADDRESS</th>\n",
       "      <th>SALARY</th>\n",
       "    </tr>\n",
       "  </thead>\n",
       "  <tbody>\n",
       "    <tr>\n",
       "      <th>0</th>\n",
       "      <td>1</td>\n",
       "      <td>Bob</td>\n",
       "      <td>32</td>\n",
       "      <td>California</td>\n",
       "      <td>30000.000000</td>\n",
       "    </tr>\n",
       "    <tr>\n",
       "      <th>1</th>\n",
       "      <td>3</td>\n",
       "      <td>Joe</td>\n",
       "      <td>23</td>\n",
       "      <td>Norway</td>\n",
       "      <td>20000.000000</td>\n",
       "    </tr>\n",
       "    <tr>\n",
       "      <th>2</th>\n",
       "      <td>4</td>\n",
       "      <td>Mary</td>\n",
       "      <td>25</td>\n",
       "      <td>Rich-Mond</td>\n",
       "      <td>65000.000000</td>\n",
       "    </tr>\n",
       "  </tbody>\n",
       "</table>\n",
       "</div>"
      ],
      "text/plain": [
       "   ID  NAME  AGE     ADDRESS       SALARY\n",
       "0   1   Bob   32  California 30000.000000\n",
       "1   3   Joe   23      Norway 20000.000000\n",
       "2   4  Mary   25  Rich-Mond  65000.000000"
      ]
     },
     "execution_count": 22,
     "metadata": {},
     "output_type": "execute_result"
    }
   ],
   "source": [
    "# Accessing SQL records with pandas\n",
    "conn = sqlite3.connect('./data/example.db')\n",
    "df = pd.read_sql_query(\"SELECT * from EMPLOYEE\", conn)\n",
    "\n",
    "conn.close()\n",
    "df"
   ]
  },
  {
   "cell_type": "code",
   "execution_count": 23,
   "metadata": {},
   "outputs": [
    {
     "data": {
      "text/html": [
       "<div>\n",
       "<style scoped>\n",
       "    .dataframe tbody tr th:only-of-type {\n",
       "        vertical-align: middle;\n",
       "    }\n",
       "\n",
       "    .dataframe tbody tr th {\n",
       "        vertical-align: top;\n",
       "    }\n",
       "\n",
       "    .dataframe thead th {\n",
       "        text-align: right;\n",
       "    }\n",
       "</style>\n",
       "<table border=\"1\" class=\"dataframe\">\n",
       "  <thead>\n",
       "    <tr style=\"text-align: right;\">\n",
       "      <th></th>\n",
       "      <th>ID</th>\n",
       "      <th>NAME</th>\n",
       "      <th>AGE</th>\n",
       "      <th>ADDRESS</th>\n",
       "      <th>SALARY</th>\n",
       "    </tr>\n",
       "  </thead>\n",
       "  <tbody>\n",
       "    <tr>\n",
       "      <th>0</th>\n",
       "      <td>1</td>\n",
       "      <td>Bob</td>\n",
       "      <td>32</td>\n",
       "      <td>California</td>\n",
       "      <td>30000.000000</td>\n",
       "    </tr>\n",
       "    <tr>\n",
       "      <th>2</th>\n",
       "      <td>4</td>\n",
       "      <td>Mary</td>\n",
       "      <td>25</td>\n",
       "      <td>Rich-Mond</td>\n",
       "      <td>65000.000000</td>\n",
       "    </tr>\n",
       "  </tbody>\n",
       "</table>\n",
       "</div>"
      ],
      "text/plain": [
       "   ID  NAME  AGE     ADDRESS       SALARY\n",
       "0   1   Bob   32  California 30000.000000\n",
       "2   4  Mary   25  Rich-Mond  65000.000000"
      ]
     },
     "execution_count": 23,
     "metadata": {},
     "output_type": "execute_result"
    }
   ],
   "source": [
    "# Then, query the dataframe\n",
    "\n",
    "# Example: get the persons with salary >= 25000\n",
    "df[df.SALARY >= 25000]"
   ]
  },
  {
   "cell_type": "code",
   "execution_count": null,
   "metadata": {},
   "outputs": [],
   "source": []
  },
  {
   "cell_type": "code",
   "execution_count": 24,
   "metadata": {},
   "outputs": [],
   "source": [
    "### Python dictionaries ####"
   ]
  },
  {
   "cell_type": "code",
   "execution_count": 25,
   "metadata": {},
   "outputs": [
    {
     "name": "stdout",
     "output_type": "stream",
     "text": [
      "{'name': 'Joe'}\n"
     ]
    }
   ],
   "source": [
    "# A python dictionary is a list that is indexed by key values.\n",
    "# They are non-ordered and contain \"keys\" and \"values.\" Each key is unique and the values can be just about anything.\n",
    "# Dictionaries are defined with {} curly braces.\n",
    "\n",
    "my_dict = {}\n",
    "my_dict['name'] = 'Joe'\n",
    "print(my_dict)"
   ]
  },
  {
   "cell_type": "code",
   "execution_count": 26,
   "metadata": {},
   "outputs": [
    {
     "name": "stdout",
     "output_type": "stream",
     "text": [
      "{'name': 'Joe', 'phone': '123456789'}\n"
     ]
    }
   ],
   "source": [
    "my_dict['phone'] = '123456789'\n",
    "print(my_dict)"
   ]
  },
  {
   "cell_type": "code",
   "execution_count": 27,
   "metadata": {},
   "outputs": [
    {
     "name": "stdout",
     "output_type": "stream",
     "text": [
      "{'attr1': 15, 'attr2': 20, 'attr3': 40, 'attr4': 100, 'attr5': True, 'attr6': False, 'class': 0}\n"
     ]
    }
   ],
   "source": [
    "sample_dict = {\n",
    "    'attr1': 15,\n",
    "    'attr2': 20,\n",
    "    'attr3': 40,\n",
    "    'attr4': 100,\n",
    "    'attr5': True,\n",
    "    'attr6': False,\n",
    "    'class': 0\n",
    "}\n",
    "print(sample_dict)"
   ]
  },
  {
   "cell_type": "code",
   "execution_count": 28,
   "metadata": {},
   "outputs": [
    {
     "name": "stdout",
     "output_type": "stream",
     "text": [
      "100\n"
     ]
    }
   ],
   "source": [
    "# Get items from dictionary\n",
    "\n",
    "attr = sample_dict['attr4']\n",
    "print(attr)"
   ]
  },
  {
   "cell_type": "code",
   "execution_count": 29,
   "metadata": {},
   "outputs": [
    {
     "name": "stdout",
     "output_type": "stream",
     "text": [
      "None\n"
     ]
    }
   ],
   "source": [
    "# What if key is not present?\n",
    "# Safer to use get():\n",
    "\n",
    "value = sample_dict.get('test_key')\n",
    "print(value)"
   ]
  },
  {
   "cell_type": "code",
   "execution_count": 30,
   "metadata": {},
   "outputs": [
    {
     "name": "stdout",
     "output_type": "stream",
     "text": [
      "{\"attr1\": 15, \"attr2\": 20, \"attr3\": 40, \"attr4\": 100, \"attr5\": true, \"attr6\": false, \"class\": 0}\n"
     ]
    }
   ],
   "source": [
    "# Can dump to JSON (create JSON formatted string)\n",
    "# We can later store that JSON string to file\n",
    "import json\n",
    "\n",
    "print(json.dumps(sample_dict))"
   ]
  },
  {
   "cell_type": "code",
   "execution_count": 31,
   "metadata": {},
   "outputs": [
    {
     "name": "stdout",
     "output_type": "stream",
     "text": [
      "{\n",
      "    \"attr1\": 15,\n",
      "    \"attr2\": 20,\n",
      "    \"attr3\": 40,\n",
      "    \"attr4\": 100,\n",
      "    \"attr5\": true,\n",
      "    \"attr6\": false,\n",
      "    \"class\": 0\n",
      "}\n"
     ]
    }
   ],
   "source": [
    "# pretty print\n",
    "print(json.dumps(sample_dict, indent=4))"
   ]
  },
  {
   "cell_type": "code",
   "execution_count": 32,
   "metadata": {},
   "outputs": [],
   "source": [
    "# Write to disk\n",
    "\n",
    "with open('./data/sample_dict.json', 'w') as fp:\n",
    "    fp.write(json.dumps(sample_dict, indent=4, sort_keys=True))\n"
   ]
  },
  {
   "cell_type": "code",
   "execution_count": 38,
   "metadata": {},
   "outputs": [
    {
     "name": "stdout",
     "output_type": "stream",
     "text": [
      "{\n",
      "    \"attr1\": [\n",
      "        15,\n",
      "        19,\n",
      "        30,\n",
      "        60,\n",
      "        30\n",
      "    ],\n",
      "    \"attr2\": [\n",
      "        20,\n",
      "        23,\n",
      "        45,\n",
      "        56,\n",
      "        78\n",
      "    ],\n",
      "    \"attr3\": [\n",
      "        40,\n",
      "        11,\n",
      "        22,\n",
      "        33,\n",
      "        44\n",
      "    ],\n",
      "    \"attr4\": [\n",
      "        100,\n",
      "        200,\n",
      "        300,\n",
      "        400,\n",
      "        500\n",
      "    ],\n",
      "    \"attr5\": [\n",
      "        true,\n",
      "        true,\n",
      "        false,\n",
      "        true,\n",
      "        false\n",
      "    ],\n",
      "    \"attr6\": [\n",
      "        false,\n",
      "        true,\n",
      "        true,\n",
      "        false,\n",
      "        true\n",
      "    ],\n",
      "    \"class\": [\n",
      "        0,\n",
      "        1,\n",
      "        1,\n",
      "        0,\n",
      "        1\n",
      "    ]\n",
      "}\n"
     ]
    }
   ],
   "source": [
    "# Assume that we create a dict to look like a dataset\n",
    "\n",
    "sample_dict = {\n",
    "    'attr1': [15, 19, 30, 60, 30],\n",
    "    'attr2': [20, 23, 45, 56, 78],\n",
    "    'attr3': [40, 11, 22, 33, 44],\n",
    "    'attr4': [100, 200, 300, 400, 500],\n",
    "    'attr5': [True, True, False, True, False],\n",
    "    'attr6': [False, True, True, False, True],\n",
    "    'class': [0, 1, 1, 0, 1]\n",
    "}\n",
    "\n",
    "print(json.dumps(sample_dict, indent=4))"
   ]
  },
  {
   "cell_type": "code",
   "execution_count": 40,
   "metadata": {},
   "outputs": [
    {
     "data": {
      "text/html": [
       "<div>\n",
       "<style scoped>\n",
       "    .dataframe tbody tr th:only-of-type {\n",
       "        vertical-align: middle;\n",
       "    }\n",
       "\n",
       "    .dataframe tbody tr th {\n",
       "        vertical-align: top;\n",
       "    }\n",
       "\n",
       "    .dataframe thead th {\n",
       "        text-align: right;\n",
       "    }\n",
       "</style>\n",
       "<table border=\"1\" class=\"dataframe\">\n",
       "  <thead>\n",
       "    <tr style=\"text-align: right;\">\n",
       "      <th></th>\n",
       "      <th>attr1</th>\n",
       "      <th>attr2</th>\n",
       "      <th>attr3</th>\n",
       "      <th>attr4</th>\n",
       "      <th>attr5</th>\n",
       "      <th>attr6</th>\n",
       "      <th>class</th>\n",
       "    </tr>\n",
       "  </thead>\n",
       "  <tbody>\n",
       "    <tr>\n",
       "      <th>0</th>\n",
       "      <td>15</td>\n",
       "      <td>20</td>\n",
       "      <td>40</td>\n",
       "      <td>100</td>\n",
       "      <td>True</td>\n",
       "      <td>False</td>\n",
       "      <td>0</td>\n",
       "    </tr>\n",
       "    <tr>\n",
       "      <th>1</th>\n",
       "      <td>19</td>\n",
       "      <td>23</td>\n",
       "      <td>11</td>\n",
       "      <td>200</td>\n",
       "      <td>True</td>\n",
       "      <td>True</td>\n",
       "      <td>1</td>\n",
       "    </tr>\n",
       "    <tr>\n",
       "      <th>2</th>\n",
       "      <td>30</td>\n",
       "      <td>45</td>\n",
       "      <td>22</td>\n",
       "      <td>300</td>\n",
       "      <td>False</td>\n",
       "      <td>True</td>\n",
       "      <td>1</td>\n",
       "    </tr>\n",
       "    <tr>\n",
       "      <th>3</th>\n",
       "      <td>60</td>\n",
       "      <td>56</td>\n",
       "      <td>33</td>\n",
       "      <td>400</td>\n",
       "      <td>True</td>\n",
       "      <td>False</td>\n",
       "      <td>0</td>\n",
       "    </tr>\n",
       "    <tr>\n",
       "      <th>4</th>\n",
       "      <td>30</td>\n",
       "      <td>78</td>\n",
       "      <td>44</td>\n",
       "      <td>500</td>\n",
       "      <td>False</td>\n",
       "      <td>True</td>\n",
       "      <td>1</td>\n",
       "    </tr>\n",
       "  </tbody>\n",
       "</table>\n",
       "</div>"
      ],
      "text/plain": [
       "   attr1  attr2  attr3  attr4  attr5  attr6  class\n",
       "0     15     20     40    100   True  False      0\n",
       "1     19     23     11    200   True   True      1\n",
       "2     30     45     22    300  False   True      1\n",
       "3     60     56     33    400   True  False      0\n",
       "4     30     78     44    500  False   True      1"
      ]
     },
     "execution_count": 40,
     "metadata": {},
     "output_type": "execute_result"
    }
   ],
   "source": [
    "# Convert to dataframe:\n",
    "\n",
    "df = pd.DataFrame.from_dict(sample_dict)\n",
    "df"
   ]
  },
  {
   "cell_type": "code",
   "execution_count": 42,
   "metadata": {},
   "outputs": [],
   "source": [
    "# Store as csv to disk\n",
    "\n",
    "df.to_csv (r'./data/sample_csv.csv', index = None)"
   ]
  },
  {
   "cell_type": "code",
   "execution_count": null,
   "metadata": {},
   "outputs": [],
   "source": []
  }
 ],
 "metadata": {
  "kernelspec": {
   "display_name": "venv",
   "language": "python",
   "name": "venv"
  },
  "language_info": {
   "codemirror_mode": {
    "name": "ipython",
    "version": 3
   },
   "file_extension": ".py",
   "mimetype": "text/x-python",
   "name": "python",
   "nbconvert_exporter": "python",
   "pygments_lexer": "ipython3",
   "version": "3.7.3"
  }
 },
 "nbformat": 4,
 "nbformat_minor": 4
}
