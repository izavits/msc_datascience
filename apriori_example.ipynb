{
 "cells": [
  {
   "cell_type": "code",
   "execution_count": 29,
   "id": "e7225c22",
   "metadata": {},
   "outputs": [],
   "source": [
    "# Import libs\n",
    "\n",
    "from apriori_algorithm import apriori"
   ]
  },
  {
   "cell_type": "code",
   "execution_count": 30,
   "id": "43956e1b",
   "metadata": {},
   "outputs": [],
   "source": [
    "# Define a set of transactions\n",
    "\n",
    "itemSetList = [\n",
    "    ['Beer', 'Nuts', 'Diaper'],\n",
    "    ['Beer', 'Coffee', 'Diaper'],\n",
    "    ['Beer', 'Diaper', 'Eggs'],\n",
    "    ['Nuts', 'Eggs', 'Milk'],\n",
    "    ['Nuts', 'Coffee', 'Diaper', 'Eggs', 'Milk']\n",
    "]"
   ]
  },
  {
   "cell_type": "code",
   "execution_count": 31,
   "id": "3a758d9a",
   "metadata": {},
   "outputs": [],
   "source": [
    "# Run algorithm\n",
    "# Let's define minimup support = 0.5\n",
    "# and mininum confidence = 0.5\n",
    "freqItemSet, rules = apriori(itemSetList, minSup=0.5, minConf=0.5)"
   ]
  },
  {
   "cell_type": "code",
   "execution_count": 32,
   "id": "61a45d43",
   "metadata": {},
   "outputs": [
    {
     "name": "stdout",
     "output_type": "stream",
     "text": [
      "1: [['Nuts'], ['Beer'], ['Diaper'], ['Eggs']]\n",
      "2: [['Beer', 'Diaper']]\n"
     ]
    }
   ],
   "source": [
    "# Print the frequent itemsets\n",
    "for key in freqItemSet:\n",
    "    values = [list(x) for x in freqItemSet[key]]\n",
    "    print(f'{key}: {values}')"
   ]
  },
  {
   "cell_type": "code",
   "execution_count": 33,
   "id": "72f6745b",
   "metadata": {},
   "outputs": [
    {
     "name": "stdout",
     "output_type": "stream",
     "text": [
      "{'Diaper'} --> {'Beer'} [conf: 0.75]\n",
      "{'Beer'} --> {'Diaper'} [conf: 1.0]\n"
     ]
    }
   ],
   "source": [
    "# Print rules\n",
    "for rule in rules:\n",
    "    print(f'{rule[0]} --> {rule[1]} [conf: {rule[2]}]')"
   ]
  },
  {
   "cell_type": "code",
   "execution_count": null,
   "id": "6e7acb77",
   "metadata": {},
   "outputs": [],
   "source": []
  },
  {
   "cell_type": "code",
   "execution_count": null,
   "id": "2e6b4c2e",
   "metadata": {},
   "outputs": [],
   "source": []
  }
 ],
 "metadata": {
  "kernelspec": {
   "display_name": "local-venv",
   "language": "python",
   "name": "local-venv"
  },
  "language_info": {
   "codemirror_mode": {
    "name": "ipython",
    "version": 3
   },
   "file_extension": ".py",
   "mimetype": "text/x-python",
   "name": "python",
   "nbconvert_exporter": "python",
   "pygments_lexer": "ipython3",
   "version": "3.7.3"
  }
 },
 "nbformat": 4,
 "nbformat_minor": 5
}
