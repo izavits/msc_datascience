{
 "cells": [
  {
   "cell_type": "code",
   "execution_count": 7,
   "id": "5e3fb391",
   "metadata": {},
   "outputs": [
    {
     "data": {
      "text/plain": [
       "['alt.atheism',\n",
       " 'comp.graphics',\n",
       " 'comp.os.ms-windows.misc',\n",
       " 'comp.sys.ibm.pc.hardware',\n",
       " 'comp.sys.mac.hardware',\n",
       " 'comp.windows.x',\n",
       " 'misc.forsale',\n",
       " 'rec.autos',\n",
       " 'rec.motorcycles',\n",
       " 'rec.sport.baseball',\n",
       " 'rec.sport.hockey',\n",
       " 'sci.crypt',\n",
       " 'sci.electronics',\n",
       " 'sci.med',\n",
       " 'sci.space',\n",
       " 'soc.religion.christian',\n",
       " 'talk.politics.guns',\n",
       " 'talk.politics.mideast',\n",
       " 'talk.politics.misc',\n",
       " 'talk.religion.misc']"
      ]
     },
     "execution_count": 7,
     "metadata": {},
     "output_type": "execute_result"
    }
   ],
   "source": [
    "# Use the 20newsgroups corpus to classify short documents to categories\n",
    "\n",
    "from sklearn.datasets import fetch_20newsgroups\n",
    "\n",
    "# Fetch data and print the categories\n",
    "data = fetch_20newsgroups()\n",
    "data.target_names"
   ]
  },
  {
   "cell_type": "code",
   "execution_count": 8,
   "id": "9e1d5173",
   "metadata": {},
   "outputs": [],
   "source": [
    "# Use a few of these categories and get the corresponding training and test sets\n",
    "categories = ['talk.religion.misc', 'soc.religion.christian', 'sci.space', 'comp.graphics']\n",
    "\n",
    "train = fetch_20newsgroups(subset='train', categories=categories)\n",
    "test = fetch_20newsgroups(subset='test', categories=categories)"
   ]
  },
  {
   "cell_type": "code",
   "execution_count": 9,
   "id": "24c6cb01",
   "metadata": {},
   "outputs": [
    {
     "name": "stdout",
     "output_type": "stream",
     "text": [
      "From: jono@mac-ak-24.rtsg.mot.com (Jon Ogden)\n",
      "Subject: Re: Losing your temper is not a Christian trait\n",
      "Organization: Motorola LPA Development\n",
      "Lines: 26\n",
      "\n",
      "In article <Apr.23.02.55.47.1993.3138@geneva.rutgers.edu>, jcj@tellabs.com\n",
      "(jcj) wrote:\n",
      "\n",
      "> I'd like to remind people of the withering of the fig tree and Jesus\n",
      "> driving the money changers et. al. out of the temple.  I think those\n",
      "> were two instances of Christ showing anger (as part of His human side).\n",
      "> \n",
      "Yes, and what about Paul saying:\n",
      "\n",
      "26 Be ye angry, and sin not: let not the sun go down upon your wrath:\n",
      "(Ephesians 4:26).\n",
      "\n",
      "Obviously then, we can be angry w/o sinning.\n",
      "\n",
      "Jon\n",
      "\n",
      "------------------------------------------------\n",
      "Jon Ogden         - jono@mac-ak-24.rtsg.mot.com\n",
      "Motorola Cellular - Advanced Products Division\n",
      "Voice: 708-632-2521      Data: 708-632-6086\n",
      "------------------------------------------------\n",
      "\n",
      "They drew a circle and shut him out.\n",
      "Heretic, Rebel, a thing to flout.\n",
      "But Love and I had the wit to win;\n",
      "We drew a circle and took him in.\n",
      "\n"
     ]
    }
   ],
   "source": [
    "# Print a sample\n",
    "print(train.data[0])"
   ]
  },
  {
   "cell_type": "code",
   "execution_count": 10,
   "id": "d968c215",
   "metadata": {},
   "outputs": [],
   "source": [
    "# The first step is to concatenate the texts that belong to each of the four categories.\n",
    "\n",
    "from collections import defaultdict\n",
    "\n",
    "label_texts = defaultdict(str)\n",
    "\n",
    "for i, text in enumerate(train['data']):\n",
    "    label = train['target_names'][train['target'][i]]\n",
    "    label_texts[label] += ' ' + text.lower()"
   ]
  },
  {
   "cell_type": "code",
   "execution_count": 11,
   "id": "2dc97a65",
   "metadata": {},
   "outputs": [
    {
     "name": "stdout",
     "output_type": "stream",
     "text": [
      "{'soc.religion.christian': 515611, 'sci.space': 454547, 'comp.graphics': 339370, 'talk.religion.misc': 318662}\n"
     ]
    }
   ],
   "source": [
    "# The next step is to compress each of these big texts and measure the size of the compressed result.\n",
    "\n",
    "import gzip\n",
    "\n",
    "METHOD = gzip\n",
    "\n",
    "original_sizes = {\n",
    "    label: len(METHOD.compress(text.encode()))\n",
    "    for label, text in label_texts.items()\n",
    "}\n",
    "\n",
    "print(original_sizes)"
   ]
  },
  {
   "cell_type": "code",
   "execution_count": 13,
   "id": "6b7a7c9d",
   "metadata": {},
   "outputs": [
    {
     "name": "stderr",
     "output_type": "stream",
     "text": [
      "100%|██████████| 1432/1432 [03:48<00:00,  6.27it/s]\n"
     ]
    }
   ],
   "source": [
    "# We just need to compare the obtained sizes with the original and return the label \n",
    "# for which the size increased the least.\n",
    "\n",
    "import tqdm\n",
    "\n",
    "predictions = []\n",
    "for text in tqdm.tqdm(test['data']):\n",
    "\n",
    "    sizes = {\n",
    "        label: len(METHOD.compress(f'{label_text} {text.lower()}'.encode()))\n",
    "        for label, label_text in label_texts.items()\n",
    "    }\n",
    "\n",
    "    predicted_label = min(\n",
    "        sizes,\n",
    "        key=lambda label: sizes[label] - original_sizes[label]\n",
    "    )\n",
    "\n",
    "    predictions.append(predicted_label)"
   ]
  },
  {
   "cell_type": "code",
   "execution_count": 14,
   "id": "7824028a",
   "metadata": {},
   "outputs": [
    {
     "name": "stdout",
     "output_type": "stream",
     "text": [
      "                        precision    recall  f1-score   support\n",
      "\n",
      "         comp.graphics      0.820     0.853     0.836       389\n",
      "             sci.space      0.872     0.779     0.823       394\n",
      "soc.religion.christian      0.790     0.897     0.840       398\n",
      "    talk.religion.misc      0.605     0.538     0.570       251\n",
      "\n",
      "              accuracy                          0.790      1432\n",
      "             macro avg      0.772     0.767     0.767      1432\n",
      "          weighted avg      0.788     0.790     0.787      1432\n",
      "\n"
     ]
    }
   ],
   "source": [
    "from sklearn.metrics import classification_report\n",
    "\n",
    "test_labels = [\n",
    "    test['target_names'][label]\n",
    "    for label in test['target']\n",
    "]\n",
    "\n",
    "print(classification_report(\n",
    "    test_labels,\n",
    "    predictions,\n",
    "    digits=3\n",
    "))"
   ]
  },
  {
   "cell_type": "code",
   "execution_count": 15,
   "id": "bd14be83",
   "metadata": {},
   "outputs": [
    {
     "data": {
      "text/plain": [
       "Text(89.133125, 0.5, 'predicted label')"
      ]
     },
     "execution_count": 15,
     "metadata": {},
     "output_type": "execute_result"
    },
    {
     "data": {
      "image/png": "[encoded data removed]",
      "text/plain": [
       "<Figure size 432x288 with 1 Axes>"
      ]
     },
     "metadata": {},
     "output_type": "display_data"
    }
   ],
   "source": [
    "# Get an idea of the performance using the confusion matrix\n",
    "from sklearn.metrics import confusion_matrix\n",
    "import seaborn as sns; sns.set()\n",
    "import matplotlib.pyplot as plt\n",
    "\n",
    "matrix = confusion_matrix(test_labels, predictions)\n",
    "sns.heatmap(matrix.T, square=True, annot=True, fmt='d', cbar=False,\n",
    "           xticklabels=train.target_names, yticklabels=train.target_names)\n",
    "plt.xlabel('true label')\n",
    "plt.ylabel('predicted label')"
   ]
  },
  {
   "cell_type": "code",
   "execution_count": null,
   "id": "b02469d0",
   "metadata": {},
   "outputs": [],
   "source": []
  }
 ],
 "metadata": {
  "kernelspec": {
   "display_name": "venv",
   "language": "python",
   "name": "venv"
  },
  "language_info": {
   "codemirror_mode": {
    "name": "ipython",
    "version": 3
   },
   "file_extension": ".py",
   "mimetype": "text/x-python",
   "name": "python",
   "nbconvert_exporter": "python",
   "pygments_lexer": "ipython3",
   "version": "3.7.3"
  }
 },
 "nbformat": 4,
 "nbformat_minor": 5
}
