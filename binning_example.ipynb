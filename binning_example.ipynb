{
 "cells": [
  {
   "cell_type": "code",
   "execution_count": 1,
   "metadata": {},
   "outputs": [],
   "source": [
    "import matplotlib.pyplot as plt\n",
    "\n",
    "# Binning\n",
    "\n",
    "# Unsupervised binning methods transform numerical variables into categorical counterparts \n",
    "# but do not use the target (class) information. \n",
    "# Equal Width and Equal Frequency are two unsupervised binning methods.\n",
    "\n",
    "#data to be binned \n",
    "data = [0, 4, 12, 16, 16, 17, 24, 26, 27] \n",
    "#no of bins \n",
    "k = 3 \n",
    "\n",
    "# Equal width:\n",
    "# The algorithm divides the data into k intervals of equal size. \n",
    "# The width of intervals is:\n",
    "# w = (max-min)/k\n",
    "# The interval boundaries are:\n",
    "# min+w, min+2w, ... , min+(k-1)w\n",
    "\n",
    "def equiwidth(data, k):\n",
    "    # Calculate width \n",
    "    w = int((max(data) - min(data)) / k)\n",
    "    # Calculate boundaries \n",
    "    boundaries = [] \n",
    "    for i in range(0, k + 1): \n",
    "        boundaries.append(min(data) + w * i)\n",
    "    # Create bins\n",
    "    bins=[]   \n",
    "    for i in range(0, k): \n",
    "        bin = [] \n",
    "        for j in data: \n",
    "            if j >= boundaries[i] and j <= boundaries[i+1]: \n",
    "                bin.append(j) \n",
    "        bins.append(bin) \n",
    "    return boundaries, bins\n",
    "\n",
    "\n",
    "# Equal frequency:\n",
    "# The algorithm divides the data into k groups.\n",
    "# Each group contains approximately same number of values\n",
    "def equifreq(data, k): \n",
    "    a = len(data) \n",
    "    n = int(a / k) \n",
    "    boundaries = []\n",
    "    bins = []\n",
    "    for i in range(0, k): \n",
    "        bin = [] \n",
    "        for j in range(i * n, (i + 1) * n): \n",
    "            if j >= a: \n",
    "                break\n",
    "            bin.append(data[j])\n",
    "        bins.append(bin)\n",
    "        boundaries.append(bin[0])\n",
    "    boundaries.append(bins[-1][-1]) \n",
    "    return boundaries, bins\n"
   ]
  },
  {
   "cell_type": "code",
   "execution_count": 2,
   "metadata": {},
   "outputs": [
    {
     "name": "stdout",
     "output_type": "stream",
     "text": [
      "Equal width binning:\n",
      "Boundaries:  [0, 9, 18, 27]\n",
      "Bins:  [[0, 4], [12, 16, 16, 17], [24, 26, 27]]\n"
     ]
    },
    {
     "data": {
      "image/png": "[encoded data removed]",
      "text/plain": [
       "<Figure size 432x288 with 1 Axes>"
      ]
     },
     "metadata": {
      "needs_background": "light"
     },
     "output_type": "display_data"
    }
   ],
   "source": [
    "print(\"Equal width binning:\") \n",
    "boundaries, bins = equiwidth(data, k)\n",
    "print('Boundaries: ', boundaries)\n",
    "print('Bins: ', bins)\n",
    "\n",
    "plt.title('Equal width')\n",
    "plt.hist(data, bins=boundaries)\n",
    "plt.grid(True)\n",
    "plt.show()"
   ]
  },
  {
   "cell_type": "code",
   "execution_count": 3,
   "metadata": {},
   "outputs": [
    {
     "name": "stdout",
     "output_type": "stream",
     "text": [
      "Equal frequency binning\n",
      "Boundaries:  [0, 16, 24, 27]\n",
      "Bins:  [[0, 4, 12], [16, 16, 17], [24, 26, 27]]\n"
     ]
    },
    {
     "data": {
      "image/png": "[encoded data removed]",
      "text/plain": [
       "<Figure size 432x288 with 1 Axes>"
      ]
     },
     "metadata": {
      "needs_background": "light"
     },
     "output_type": "display_data"
    }
   ],
   "source": [
    "print(\"Equal frequency binning\") \n",
    "boundaries, bins = equifreq(data, k) \n",
    "print('Boundaries: ', boundaries)\n",
    "print('Bins: ', bins)\n",
    "\n",
    "plt.title('Equal frequency')\n",
    "plt.hist(data, boundaries, edgecolor='black')\n",
    "plt.grid(True)\n",
    "plt.show()"
   ]
  },
  {
   "cell_type": "code",
   "execution_count": null,
   "metadata": {},
   "outputs": [],
   "source": []
  }
 ],
 "metadata": {
  "kernelspec": {
   "display_name": "Python 3",
   "language": "python",
   "name": "python3"
  },
  "language_info": {
   "codemirror_mode": {
    "name": "ipython",
    "version": 3
   },
   "file_extension": ".py",
   "mimetype": "text/x-python",
   "name": "python",
   "nbconvert_exporter": "python",
   "pygments_lexer": "ipython3",
   "version": "3.7.3"
  }
 },
 "nbformat": 4,
 "nbformat_minor": 2
}
